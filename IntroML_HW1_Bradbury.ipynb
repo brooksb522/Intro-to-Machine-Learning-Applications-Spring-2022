{
  "cells": [
    {
      "cell_type": "markdown",
      "id": "417a9bd8",
      "metadata": {
        "deletable": false,
        "editable": false,
        "nbgrader": {
          "cell_type": "markdown",
          "checksum": "7de13d5d53a732351c5b55f51a1b346a",
          "grade": false,
          "grade_id": "Instructions",
          "locked": true,
          "schema_version": 3,
          "solution": false,
          "task": false
        },
        "id": "417a9bd8"
      },
      "source": [
        "#### Homework-1\n",
        "##### Total number of points: 50\n",
        "#### Due date: January 28th, 2022\n",
        "\n",
        "Before you submit this homework, make sure everything runs as expected. First, restart the kernel (in the menu, select Kernel → Restart) and then run all cells (in the menubar, select Cell → Run All). You can discuss with others regarding the homework but all work must be your own.\n",
        "\n",
        "This homework will test your knowledge on basics of Python. The Python notebooks shared will be helpful to solve these problems. \n",
        "\n",
        "Steps to evaluate your solutions:\n",
        "\n",
        "Step-1: Ensure you have installed Anaconda (Windows: https://docs.anaconda.com/anaconda/install/windows/ ; Mac:https://docs.anaconda.com/anaconda/install/mac-os/ ; Linux: https://docs.anaconda.com/anaconda/install/linux/)\n",
        "\n",
        "Step-2: Open the Jupyter Notebook by first launching the anaconda software console\n",
        "\n",
        "Step-3: Open the .ipynb file and write your solutions at the appropriate location \"# YOUR CODE HERE\"\n",
        "\n",
        "Step-4: You can restart the kernel and click run all (in the menubar, select Cell → Run All) on the center-right on the top of this window.\n",
        "\n",
        "Step-5: Now go to \"File\" then click on \"Download as\" then click on \"Notebook (.ipynb)\" Please DO NOT change the file name and just keep it as .ipynb file format\n",
        "\n",
        "Step-6: Go to lms.rpi.edu and upload your homework at the appropriate link to submit this homework.\n",
        "\n",
        "#### Please note that for any question in this assignment you will receive points ONLY if your solution passes all the test cases including hidden testcases as well. So please make sure you try to think all possible scenarios before submitting your answers.  \n",
        "- Note that hidden tests are present to ensure you are not hardcoding. \n",
        "- If caught cheating: \n",
        "    - you will receive a score of 0 for the 1st violation. \n",
        "    - for repeated incidents, you will receive an automatic 'F' grade and will be reported to the dean of Lally School of Management. "
      ]
    },
    {
      "cell_type": "markdown",
      "id": "b464b74a",
      "metadata": {
        "deletable": false,
        "editable": false,
        "nbgrader": {
          "cell_type": "markdown",
          "checksum": "8eb6735772f84821077fbb244ca5051d",
          "grade": false,
          "grade_id": "Q1",
          "locked": true,
          "schema_version": 3,
          "solution": false,
          "task": false
        },
        "id": "b464b74a"
      },
      "source": [
        "#### Q1[5 points]. Assign the value for `x` to `150`. Set the value for `y` to `15` times `x` , and set the value for `z` to `y` divided by `x^2` (square of `x`)."
      ]
    },
    {
      "cell_type": "code",
      "execution_count": 434,
      "id": "70f37e19",
      "metadata": {
        "deletable": false,
        "nbgrader": {
          "cell_type": "code",
          "checksum": "8670364cfcae0b00e5e7b28db785d40b",
          "grade": false,
          "grade_id": "Q1-sol",
          "locked": false,
          "schema_version": 3,
          "solution": true,
          "task": false
        },
        "id": "70f37e19"
      },
      "outputs": [],
      "source": [
        "\n",
        "#Assign x; y; z\n",
        "\n",
        "x = 150\n",
        "y = 15 * x\n",
        "z = y / x**2\n"
      ]
    },
    {
      "cell_type": "code",
      "execution_count": 435,
      "id": "d644e8c1",
      "metadata": {
        "deletable": false,
        "editable": false,
        "nbgrader": {
          "cell_type": "code",
          "checksum": "457a0cdfb95715f141f2c58700dfffd2",
          "grade": true,
          "grade_id": "1",
          "locked": true,
          "points": 3,
          "schema_version": 3,
          "solution": false,
          "task": false
        },
        "id": "d644e8c1"
      },
      "outputs": [],
      "source": [
        "#Test cell-1\n",
        "#DO NOT MODIFY/DELETE THIS CELL \n",
        "\n",
        "assert x==150\n",
        "assert y==2250\n",
        "assert z==0.1\n",
        "\n"
      ]
    },
    {
      "cell_type": "code",
      "execution_count": 436,
      "id": "d2cb7fd6",
      "metadata": {
        "deletable": false,
        "editable": false,
        "nbgrader": {
          "cell_type": "code",
          "checksum": "81b61aec692a5963ce1edc8c84233dc6",
          "grade": true,
          "grade_id": "2",
          "locked": true,
          "points": 2,
          "schema_version": 3,
          "solution": false,
          "task": false
        },
        "id": "d2cb7fd6"
      },
      "outputs": [],
      "source": [
        "#Test cell-2 Hidden tests\n",
        "#DO NOT MODIFY/DELETE THIS CELL \n"
      ]
    },
    {
      "cell_type": "markdown",
      "id": "5d2da579",
      "metadata": {
        "deletable": false,
        "editable": false,
        "nbgrader": {
          "cell_type": "markdown",
          "checksum": "2cdb9d1ff2bdccac6a9f81e1cffc817e",
          "grade": false,
          "grade_id": "Q2",
          "locked": true,
          "schema_version": 3,
          "solution": false,
          "task": false
        },
        "id": "5d2da579"
      },
      "source": [
        "#### Q2-1 [5 points]: \n",
        "\n",
        "- Create an empty list `li1`\n",
        "- Create a list `li2` with integers 1, 2, 3\n",
        "- Create a nested list `li3` with `li1` and `li2`\n",
        "- Create a list `li4` with only `4` repeated 3 times.\n",
        "- Create a list `li5` with your firstName and lastName as two separate strings -- for example, li5 that we build will be ['lydia', 'manikonda']\n"
      ]
    },
    {
      "cell_type": "code",
      "execution_count": 437,
      "id": "e44247b2",
      "metadata": {
        "deletable": false,
        "nbgrader": {
          "cell_type": "code",
          "checksum": "51a5497b917efaa4f8d3af1e9af81528",
          "grade": false,
          "grade_id": "Q2-sol",
          "locked": false,
          "schema_version": 3,
          "solution": true,
          "task": false
        },
        "id": "e44247b2"
      },
      "outputs": [],
      "source": [
        "#Need to create li1, li2, li3, li4, li5 according to the instructions\n",
        "\n",
        "li1 = []\n",
        "li2 = [1,2,3]\n",
        "li3 = [li1,li2]\n",
        "li4 = [4,4,4]\n",
        "li5 = ['Brooks','Bradbury']"
      ]
    },
    {
      "cell_type": "code",
      "execution_count": 438,
      "id": "2bcfc609",
      "metadata": {
        "deletable": false,
        "editable": false,
        "nbgrader": {
          "cell_type": "code",
          "checksum": "a87dba0ca37e421c699b1a04849f4d33",
          "grade": true,
          "grade_id": "3",
          "locked": true,
          "points": 4,
          "schema_version": 3,
          "solution": false,
          "task": false
        },
        "id": "2bcfc609"
      },
      "outputs": [],
      "source": [
        "#Test cell-3\n",
        "#DO NOT MODIFY/DELETE THIS CELL \n",
        "assert len(li1) == 0\n",
        "assert set(li2) == {1,2,3}\n",
        "assert len(li3) == 2\n",
        "assert len(set(li4)) == 1\n",
        "assert len(li5)==2"
      ]
    },
    {
      "cell_type": "code",
      "execution_count": 439,
      "id": "faf46f81",
      "metadata": {
        "deletable": false,
        "editable": false,
        "nbgrader": {
          "cell_type": "code",
          "checksum": "346ef46a861eb372fb0b3a26f5fa2f2b",
          "grade": true,
          "grade_id": "4",
          "locked": true,
          "points": 1,
          "schema_version": 3,
          "solution": false,
          "task": false
        },
        "id": "faf46f81"
      },
      "outputs": [],
      "source": [
        "#Test cell-4 Hidden tests\n",
        "#DO NOT MODIFY/DELETE THIS CELL \n"
      ]
    },
    {
      "cell_type": "markdown",
      "id": "77a6ce83",
      "metadata": {
        "deletable": false,
        "editable": false,
        "nbgrader": {
          "cell_type": "markdown",
          "checksum": "e9c84665f0d9734721c6b4e5a15eb4a7",
          "grade": false,
          "grade_id": "Q2-2",
          "locked": true,
          "schema_version": 3,
          "solution": false,
          "task": false
        },
        "id": "77a6ce83"
      },
      "source": [
        "#### Q2-2 [5 points]: \n",
        "\n",
        "###### Note that all are integers in this list. Please follow the exact order of execution here below from first line to the last line\n",
        "- Create a list `li1` with values in an order -- 10, -10, 20, -20 \n",
        "- Append a new element `30` to list `li1`  \n",
        "- Insert a new element `-30` at position `2`\n",
        "- Insert a new element `15` at position `20` (Yes it is 20 -- check what happens)"
      ]
    },
    {
      "cell_type": "code",
      "execution_count": 440,
      "id": "5e0b5c9d",
      "metadata": {
        "deletable": false,
        "nbgrader": {
          "cell_type": "code",
          "checksum": "3d423fac5ce7de7fa4487124e0aca6dc",
          "grade": false,
          "grade_id": "Q2-2-Sol",
          "locked": false,
          "schema_version": 3,
          "solution": true,
          "task": false
        },
        "id": "5e0b5c9d"
      },
      "outputs": [],
      "source": [
        "#Need to create li1 according to the instructions above\n",
        "\n",
        "li1 = [10,-10,20,-20]\n",
        "li1.append(30)\n",
        "li1.insert(2,-30)\n",
        "li1.insert(20,15)\n"
      ]
    },
    {
      "cell_type": "code",
      "execution_count": 441,
      "id": "8888fdd3",
      "metadata": {
        "deletable": false,
        "editable": false,
        "nbgrader": {
          "cell_type": "code",
          "checksum": "c7f423ad667bbd2a3bfe0b30a5139e90",
          "grade": true,
          "grade_id": "5",
          "locked": true,
          "points": 1,
          "schema_version": 3,
          "solution": false,
          "task": false
        },
        "id": "8888fdd3"
      },
      "outputs": [],
      "source": [
        "#Test cell-5 \n",
        "#DO NOT MODIFY/DELETE THIS CELL\n",
        "assert len(li1)==7"
      ]
    },
    {
      "cell_type": "code",
      "execution_count": 442,
      "id": "f0e0784b",
      "metadata": {
        "deletable": false,
        "editable": false,
        "nbgrader": {
          "cell_type": "code",
          "checksum": "9e4b7f5560f57aa2238b0b6ac31f5916",
          "grade": true,
          "grade_id": "6",
          "locked": true,
          "points": 4,
          "schema_version": 3,
          "solution": false,
          "task": false
        },
        "id": "f0e0784b"
      },
      "outputs": [],
      "source": [
        "#Test cell-6 Hidden tests\n",
        "#DO NOT MODIFY/DELETE THIS CELL"
      ]
    },
    {
      "cell_type": "markdown",
      "id": "2caf3184",
      "metadata": {
        "deletable": false,
        "editable": false,
        "nbgrader": {
          "cell_type": "markdown",
          "checksum": "e319aaff02427e9dc817dcd63627f758",
          "grade": false,
          "grade_id": "Q3",
          "locked": true,
          "schema_version": 3,
          "solution": false,
          "task": false
        },
        "id": "2caf3184"
      },
      "source": [
        "#### Q3-1 [5 points] \n",
        "\n",
        "###### Create a dictionary `d1` with 5 keys 1, 2, 3, 4, 5 and their corresponding values as 2, 4, 6, 8, 10 respectively. "
      ]
    },
    {
      "cell_type": "code",
      "execution_count": 443,
      "id": "aa6b5ccc",
      "metadata": {
        "deletable": false,
        "nbgrader": {
          "cell_type": "code",
          "checksum": "4e465136ab91496f6996f22a40aa54ea",
          "grade": false,
          "grade_id": "Q3-Sol",
          "locked": false,
          "schema_version": 3,
          "solution": true,
          "task": false
        },
        "id": "aa6b5ccc"
      },
      "outputs": [],
      "source": [
        "#Creating the dictionary d1\n",
        "\n",
        "d1 = {1:2,2:4,3:6,4:8,5:10}"
      ]
    },
    {
      "cell_type": "code",
      "execution_count": 444,
      "id": "dcb3b937",
      "metadata": {
        "deletable": false,
        "editable": false,
        "nbgrader": {
          "cell_type": "code",
          "checksum": "d3897a18fc1b866f495c5fd9acb32451",
          "grade": true,
          "grade_id": "7",
          "locked": true,
          "points": 3,
          "schema_version": 3,
          "solution": false,
          "task": false
        },
        "id": "dcb3b937"
      },
      "outputs": [],
      "source": [
        "#Test cell-7\n",
        "#DO NOT MODIFY/DELETE THIS CELL\n",
        "assert len(d1)==5\n",
        "assert d1[3]==6\n",
        "assert d1[5]==10"
      ]
    },
    {
      "cell_type": "code",
      "execution_count": 445,
      "id": "f63d1c8c",
      "metadata": {
        "deletable": false,
        "editable": false,
        "nbgrader": {
          "cell_type": "code",
          "checksum": "2beb27fe477281b0ef6244541c7105f8",
          "grade": true,
          "grade_id": "8",
          "locked": true,
          "points": 2,
          "schema_version": 3,
          "solution": false,
          "task": false
        },
        "id": "f63d1c8c"
      },
      "outputs": [],
      "source": [
        "#Test cell-8 Hidden tests\n",
        "#DO NOT MODIFY/DELETE THIS CELL"
      ]
    },
    {
      "cell_type": "markdown",
      "id": "44b3869a",
      "metadata": {
        "deletable": false,
        "editable": false,
        "nbgrader": {
          "cell_type": "markdown",
          "checksum": "3151eca959ba39a39780178b3aae09df",
          "grade": false,
          "grade_id": "Q3-2",
          "locked": true,
          "schema_version": 3,
          "solution": false,
          "task": false
        },
        "id": "44b3869a"
      },
      "source": [
        "#### Q3-2 [5 points] \n",
        "\n",
        "###### Create a dictionary `d2` with 5 keys 1, 2, 3, 4, 5 and their corresponding values as 1, 4, 9, 16, 25 respectively. \n",
        "###### Add a new key-value pair to `d2` with key as `6` and value as `36`"
      ]
    },
    {
      "cell_type": "code",
      "execution_count": 446,
      "id": "092c3133",
      "metadata": {
        "deletable": false,
        "nbgrader": {
          "cell_type": "code",
          "checksum": "5bffb8dd21832db1a201936f741a4ba4",
          "grade": false,
          "grade_id": "Q3-2-Sol",
          "locked": false,
          "schema_version": 3,
          "solution": true,
          "task": false
        },
        "id": "092c3133"
      },
      "outputs": [],
      "source": [
        "#Creating the dictionary d2 and add a new key-value pair\n",
        "\n",
        "d2 = {1:1,2:4,3:9,4:16,5:25}\n",
        "d2[6] = 36"
      ]
    },
    {
      "cell_type": "code",
      "execution_count": 447,
      "id": "23e17898",
      "metadata": {
        "deletable": false,
        "editable": false,
        "nbgrader": {
          "cell_type": "code",
          "checksum": "f465cbf420c6e7f64fc49b3099cb9e8b",
          "grade": true,
          "grade_id": "9",
          "locked": true,
          "points": 2,
          "schema_version": 3,
          "solution": false,
          "task": false
        },
        "id": "23e17898"
      },
      "outputs": [],
      "source": [
        "#Test cell-9\n",
        "#DO NOT MODIFY/DELETE THIS CELL\n",
        "\n",
        "assert len(d2)==6"
      ]
    },
    {
      "cell_type": "code",
      "execution_count": 448,
      "id": "85dae7d8",
      "metadata": {
        "deletable": false,
        "editable": false,
        "nbgrader": {
          "cell_type": "code",
          "checksum": "cf1b055b128a073aad11db952c80d65f",
          "grade": true,
          "grade_id": "10",
          "locked": true,
          "points": 3,
          "schema_version": 3,
          "solution": false,
          "task": false
        },
        "id": "85dae7d8"
      },
      "outputs": [],
      "source": [
        "#Test cell-10 Hidden tests\n",
        "#DO NOT MODIFY/DELETE THIS CELL"
      ]
    },
    {
      "cell_type": "markdown",
      "id": "73df19ad",
      "metadata": {
        "deletable": false,
        "editable": false,
        "nbgrader": {
          "cell_type": "markdown",
          "checksum": "73509d36afe0378a56173d84495ba5be",
          "grade": false,
          "grade_id": "Q3-3",
          "locked": true,
          "schema_version": 3,
          "solution": false,
          "task": false
        },
        "id": "73df19ad"
      },
      "source": [
        "#### Q3-3 [5 points].\n",
        "\n",
        "- Create a list `l31` with numbers 1, 2, 3, 4 in the same order as listed here\n",
        "- Create another list `l32` with strings 'a', 'b', 'c', 'd' in the same order as listed here\n",
        "- Create a dictionary `d3` where length of `l31` is the key and `l32` is the value\n",
        "- Create a list `l33` that contains keys of dictionary `d3`"
      ]
    },
    {
      "cell_type": "code",
      "execution_count": 449,
      "id": "74411150",
      "metadata": {
        "deletable": false,
        "nbgrader": {
          "cell_type": "code",
          "checksum": "f2cb1c82b5a68a526adbf1f82f3a29f5",
          "grade": false,
          "grade_id": "Q3-3-Sol",
          "locked": false,
          "schema_version": 3,
          "solution": true,
          "task": false
        },
        "id": "74411150"
      },
      "outputs": [],
      "source": [
        "#Creating l31 and l32 and follow the instructions to create dictionary d3 \n",
        "\n",
        "l31 = [1,2,3,4]\n",
        "l32 = ['a','b','c','d']\n",
        "d3 = {len(l31):l32}\n",
        "l33 = [d3.keys()]\n"
      ]
    },
    {
      "cell_type": "code",
      "execution_count": 450,
      "id": "b673c5d0",
      "metadata": {
        "deletable": false,
        "editable": false,
        "nbgrader": {
          "cell_type": "code",
          "checksum": "58f686446d9ef459424ed8891d20b1cf",
          "grade": true,
          "grade_id": "11",
          "locked": true,
          "points": 4,
          "schema_version": 3,
          "solution": false,
          "task": false
        },
        "id": "b673c5d0"
      },
      "outputs": [],
      "source": [
        "#Test cell-11\n",
        "#DO NOT MODIFY/DELETE THIS CELL\n",
        "assert len(l31)==4\n",
        "assert set(l32)=={'a', 'b','c', 'd'}\n",
        "assert len(d3)==1\n",
        "assert len(l33)==1"
      ]
    },
    {
      "cell_type": "code",
      "execution_count": 451,
      "id": "ba01a254",
      "metadata": {
        "deletable": false,
        "editable": false,
        "nbgrader": {
          "cell_type": "code",
          "checksum": "b91cd90346023fefc6cd540f89a9c913",
          "grade": true,
          "grade_id": "12",
          "locked": true,
          "points": 1,
          "schema_version": 3,
          "solution": false,
          "task": false
        },
        "id": "ba01a254"
      },
      "outputs": [],
      "source": [
        "#Test cell-12 Hidden tests\n",
        "#DO NOT MODIFY/DELETE THIS CELL"
      ]
    },
    {
      "cell_type": "markdown",
      "id": "1577d80b",
      "metadata": {
        "deletable": false,
        "editable": false,
        "nbgrader": {
          "cell_type": "markdown",
          "checksum": "543b11253147c232c9213a020dc5ec4a",
          "grade": false,
          "grade_id": "Q4",
          "locked": true,
          "schema_version": 3,
          "solution": false,
          "task": false
        },
        "id": "1577d80b"
      },
      "source": [
        "#### Q4-1 [5 points]. \n",
        "\n",
        "- Create a set `S1` with values 1, 2, 3, 4 in the same order as stated. \n",
        "- Assign the variable `Slen` as the length of this set `S1` \n",
        "- Create another set `S2` with values 5, 6, 7, 8 in the same order as stated. \n",
        "- Create a new set `S3` by merging sets `S1` and `S2`"
      ]
    },
    {
      "cell_type": "code",
      "execution_count": 452,
      "id": "d6e4fadf",
      "metadata": {
        "deletable": false,
        "nbgrader": {
          "cell_type": "code",
          "checksum": "810f2f1ec5d435a1a4ac89e3a252237d",
          "grade": false,
          "grade_id": "Q4-Sol",
          "locked": false,
          "schema_version": 3,
          "solution": true,
          "task": false
        },
        "id": "d6e4fadf"
      },
      "outputs": [],
      "source": [
        "#Please follow the above instructions to create S1, S2, S3\n",
        "\n",
        "\n",
        "S1 = {1,2,3,4}\n",
        "Slen = len(S1)\n",
        "S2 = {5,6,7,8}\n",
        "S3 = set.union(S1,S2)\n"
      ]
    },
    {
      "cell_type": "code",
      "execution_count": 453,
      "id": "3fb5daf9",
      "metadata": {
        "deletable": false,
        "editable": false,
        "nbgrader": {
          "cell_type": "code",
          "checksum": "2e45f99563f0d4cdb6e92db3e10c435d",
          "grade": true,
          "grade_id": "13",
          "locked": true,
          "points": 3,
          "schema_version": 3,
          "solution": false,
          "task": false
        },
        "id": "3fb5daf9"
      },
      "outputs": [],
      "source": [
        "#Test cell-13\n",
        "#DO NOT MODIFY/DELETE THIS CELL\n",
        "assert Slen==4\n",
        "assert 1 in S1\n",
        "assert S3=={1, 2, 3, 4, 5, 6, 7, 8}"
      ]
    },
    {
      "cell_type": "code",
      "execution_count": 454,
      "id": "3f6d8766",
      "metadata": {
        "deletable": false,
        "editable": false,
        "nbgrader": {
          "cell_type": "code",
          "checksum": "39653bbe816705f1ada0be69b0865797",
          "grade": true,
          "grade_id": "14",
          "locked": true,
          "points": 2,
          "schema_version": 3,
          "solution": false,
          "task": false
        },
        "id": "3f6d8766"
      },
      "outputs": [],
      "source": [
        "#Test cell-14 Hidden tests\n",
        "#DO NOT MODIFY/DELETE THIS CELL"
      ]
    },
    {
      "cell_type": "markdown",
      "id": "a352633c",
      "metadata": {
        "deletable": false,
        "editable": false,
        "nbgrader": {
          "cell_type": "markdown",
          "checksum": "0d9f8fa33a8e3e7887a69447e95f6057",
          "grade": false,
          "grade_id": "Q4-2",
          "locked": true,
          "schema_version": 3,
          "solution": false,
          "task": false
        },
        "id": "a352633c"
      },
      "source": [
        "#### Q4-2 [5 points]\n",
        "\n",
        "- Create a set `S4` with values 1, 2, 3, 4, 5, 6, 7, 8 passed as strings \n",
        "- Add another string `'10'` to `S4`\n",
        "- Convert each element in S4 which is a string to integer and save this new set as `S5`"
      ]
    },
    {
      "cell_type": "code",
      "execution_count": 455,
      "id": "1ea68746",
      "metadata": {
        "deletable": false,
        "nbgrader": {
          "cell_type": "code",
          "checksum": "51cbe3e48decfdee4662eabb9355d86e",
          "grade": false,
          "grade_id": "Q4-2-Sol",
          "locked": false,
          "schema_version": 3,
          "solution": true,
          "task": false
        },
        "id": "1ea68746"
      },
      "outputs": [],
      "source": [
        "S4 = set(['1','2','3','4','5','6','7','8'])\n",
        "S4.add('10')\n",
        "S5 = set()\n",
        "for i in range(len(S4)-1):\n",
        "  S5.add(int(i+1))\n",
        "S5.add(10)"
      ]
    },
    {
      "cell_type": "code",
      "execution_count": 456,
      "id": "764255ae",
      "metadata": {
        "deletable": false,
        "editable": false,
        "nbgrader": {
          "cell_type": "code",
          "checksum": "a563dc46b0a8c5ae1409f3fd45909579",
          "grade": true,
          "grade_id": "15",
          "locked": true,
          "points": 5,
          "schema_version": 3,
          "solution": false,
          "task": false
        },
        "id": "764255ae"
      },
      "outputs": [],
      "source": [
        "#Test cell-15\n",
        "#DO NOT MODIFY/DELETE THIS CELL\n",
        "assert len(set(S4))==9\n",
        "assert S5=={1, 2, 3, 4, 5, 6, 7, 8, 10}"
      ]
    },
    {
      "cell_type": "markdown",
      "id": "cbe05501",
      "metadata": {
        "deletable": false,
        "editable": false,
        "nbgrader": {
          "cell_type": "markdown",
          "checksum": "bd1fba24ff6ca734b117a49752019bef",
          "grade": false,
          "grade_id": "Q5",
          "locked": true,
          "schema_version": 3,
          "solution": false,
          "task": false
        },
        "id": "cbe05501"
      },
      "source": [
        "#### Q5 [5 points]. Write a function named `PrintNums()` that takes a number `num` (where `num` is >0) and returns a list of numbers from 0 to `num` (exclusive). If number `num`<=0 return `[-1]`. \n",
        "\n",
        "- Please make sure you consider the edgecases so that you will receive full points "
      ]
    },
    {
      "cell_type": "code",
      "execution_count": 457,
      "id": "628b44da",
      "metadata": {
        "deletable": false,
        "nbgrader": {
          "cell_type": "code",
          "checksum": "7c3c2cd99845d8221a3ef417e45cb97d",
          "grade": false,
          "grade_id": "Q5-Sol",
          "locked": false,
          "schema_version": 3,
          "solution": true,
          "task": false
        },
        "id": "628b44da"
      },
      "outputs": [],
      "source": [
        "def PrintNums(num):\n",
        "  numlist = []\n",
        "  if num > 0:\n",
        "    for i in range(num):\n",
        "      numlist.append(i)\n",
        "    return numlist\n",
        "  if num <= 0:\n",
        "    return [-1]\n"
      ]
    },
    {
      "cell_type": "code",
      "execution_count": 458,
      "id": "065ca916",
      "metadata": {
        "deletable": false,
        "editable": false,
        "nbgrader": {
          "cell_type": "code",
          "checksum": "e614d973fa0e63ca13f81944d028e60b",
          "grade": true,
          "grade_id": "16",
          "locked": true,
          "points": 3,
          "schema_version": 3,
          "solution": false,
          "task": false
        },
        "id": "065ca916"
      },
      "outputs": [],
      "source": [
        "#Test cell-16\n",
        "#DO NOT MODIFY/DELETE THIS CELL\n",
        "assert PrintNums(3)==[0, 1, 2]\n",
        "assert PrintNums(4)==[0, 1, 2, 3]\n",
        "assert PrintNums(6)==[0, 1, 2, 3, 4, 5]"
      ]
    },
    {
      "cell_type": "code",
      "execution_count": 459,
      "id": "a18e5cd1",
      "metadata": {
        "deletable": false,
        "editable": false,
        "nbgrader": {
          "cell_type": "code",
          "checksum": "abbc32a6ca3768b8c58e723708b1a1bf",
          "grade": true,
          "grade_id": "17",
          "locked": true,
          "points": 2,
          "schema_version": 3,
          "solution": false,
          "task": false
        },
        "id": "a18e5cd1"
      },
      "outputs": [],
      "source": [
        "#Test cell-17 HIDDEN TESTS\n",
        "#DO NOT MODIFY/DELETE THIS CELL"
      ]
    },
    {
      "cell_type": "markdown",
      "id": "6d7a9c26",
      "metadata": {
        "deletable": false,
        "editable": false,
        "nbgrader": {
          "cell_type": "markdown",
          "checksum": "2f58a349d6974fea318a0928f8977b5d",
          "grade": false,
          "grade_id": "Q6",
          "locked": true,
          "schema_version": 3,
          "solution": false,
          "task": false
        },
        "id": "6d7a9c26"
      },
      "source": [
        "#### Q6 [5 points]. Write a function named 'GreaterOrLesser()' that takes two numbers `num1` and `num2`. Note that both `num1` and `num2` are `> 0`.  This function should: \n",
        "- return [1] if `num1` > `num2`\n",
        "- return [0] if `num1` = `num2`\n",
        "- return [-1] if `num1` < `num2`\n"
      ]
    },
    {
      "cell_type": "code",
      "execution_count": 460,
      "id": "916569d4",
      "metadata": {
        "deletable": false,
        "nbgrader": {
          "cell_type": "code",
          "checksum": "6b04ff064aea249bd54a1fd714d71281",
          "grade": false,
          "grade_id": "Q6-Sol",
          "locked": false,
          "schema_version": 3,
          "solution": true,
          "task": false
        },
        "id": "916569d4"
      },
      "outputs": [],
      "source": [
        "def GreaterOrLesser(num1,num2):\n",
        "  if num1 > num2:\n",
        "    return [1]\n",
        "  elif num1 < num2:\n",
        "    return [-1]\n",
        "  else:\n",
        "    return [0]\n"
      ]
    },
    {
      "cell_type": "code",
      "execution_count": 461,
      "id": "5de72119",
      "metadata": {
        "deletable": false,
        "editable": false,
        "nbgrader": {
          "cell_type": "code",
          "checksum": "2e6ea283a28911c5060eb67f4fdf3eed",
          "grade": true,
          "grade_id": "18",
          "locked": true,
          "points": 5,
          "schema_version": 3,
          "solution": false,
          "task": false
        },
        "id": "5de72119"
      },
      "outputs": [],
      "source": [
        "#Test cell-18\n",
        "#DO NOT MODIFY/DELETE THIS CELL\n",
        "assert GreaterOrLesser(0,1)==[-1]\n",
        "assert GreaterOrLesser(num2=-1,num1=1)==[1]\n",
        "assert GreaterOrLesser(num1=0,num2=0)==[0]\n"
      ]
    }
  ],
  "metadata": {
    "kernelspec": {
      "display_name": "Python 3",
      "language": "python",
      "name": "python3"
    },
    "language_info": {
      "codemirror_mode": {
        "name": "ipython",
        "version": 3
      },
      "file_extension": ".py",
      "mimetype": "text/x-python",
      "name": "python",
      "nbconvert_exporter": "python",
      "pygments_lexer": "ipython3",
      "version": "3.8.8"
    },
    "colab": {
      "name": "IntroML_HW1_Bradbury.ipynb",
      "provenance": [],
      "collapsed_sections": []
    }
  },
  "nbformat": 4,
  "nbformat_minor": 5
}