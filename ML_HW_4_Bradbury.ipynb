{
  "cells": [
    {
      "cell_type": "markdown",
      "id": "e8a5b8b7",
      "metadata": {
        "deletable": false,
        "editable": false,
        "nbgrader": {
          "cell_type": "markdown",
          "checksum": "fecd478c2a7870fd4969b2529342f2e6",
          "grade": false,
          "grade_id": "instructions",
          "locked": true,
          "schema_version": 3,
          "solution": false,
          "task": false
        },
        "id": "e8a5b8b7"
      },
      "source": [
        "#### Homework-4\n",
        "##### Total number of points: 60\n",
        "#### Due date: February 25th, 2022\n",
        "\n",
        "Before you submit this homework, make sure everything runs as expected. First, restart the kernel (in the menu, select Kernel → Restart) and then run all cells (in the menubar, select Cell → Run All). You can discuss with others regarding the homework but all work must be your own.\n",
        "\n",
        "This homework will test your knowledge on basics of Python. The Python notebooks shared will be helpful to solve these problems. \n",
        "\n",
        "Steps to evaluate your solutions:\n",
        "\n",
        "Step-1: Ensure you have installed Anaconda (Windows: https://docs.anaconda.com/anaconda/install/windows/ ; Mac:https://docs.anaconda.com/anaconda/install/mac-os/ ; Linux: https://docs.anaconda.com/anaconda/install/linux/)\n",
        "\n",
        "Step-2: Open the Jupyter Notebook by first launching the anaconda software console\n",
        "\n",
        "Step-3: Open the .ipynb file and write your solutions at the appropriate location \"# YOUR CODE HERE\"\n",
        "\n",
        "Step-4: You can restart the kernel and click run all (in the menubar, select Cell → Run All) on the center-right on the top of this window.\n",
        "\n",
        "Step-5: Now go to \"File\" then click on \"Download as\" then click on \"Notebook (.ipynb)\" Please DO NOT change the file name and just keep it as .ipynb file format\n",
        "\n",
        "Step-6: Go to lms.rpi.edu and upload your homework at the appropriate link to submit this homework.\n",
        "\n",
        "#### Please note that for any question in this assignment you will receive points ONLY if your solution passes all the test cases including hidden testcases as well. So please make sure you try to think all possible scenarios before submitting your answers.  \n",
        "- Note that hidden tests are present to ensure you are not hardcoding. \n",
        "- If caught cheating: \n",
        "    - you will receive a score of 0 for the 1st violation. \n",
        "    - for repeated incidents, you will receive an automatic 'F' grade and will be reported to the dean of Lally School of Management. "
      ]
    },
    {
      "cell_type": "markdown",
      "id": "5181d77b",
      "metadata": {
        "deletable": false,
        "editable": false,
        "nbgrader": {
          "cell_type": "markdown",
          "checksum": "05888f759ef5ba16d7a817e53000e167",
          "grade": false,
          "grade_id": "q1",
          "locked": true,
          "schema_version": 3,
          "solution": false,
          "task": false
        },
        "id": "5181d77b"
      },
      "source": [
        "#### Q1 [15 points]. Given the groundtruth or actual class labels `y_true` and the predicted class labels `y_pred`, \n",
        "#### build a confusion matrix without using any existing library to compute the total number of \n",
        "- `fp` false positives, \n",
        "- `tp` true positives, \n",
        "- `fn` false negatives and \n",
        "- `tn` true negatives. \n"
      ]
    },
    {
      "cell_type": "code",
      "execution_count": null,
      "id": "84c47e9d",
      "metadata": {
        "deletable": false,
        "nbgrader": {
          "cell_type": "code",
          "checksum": "aa3e497bea4d73530fe186fa356f4a39",
          "grade": false,
          "grade_id": "q1-sol",
          "locked": false,
          "schema_version": 3,
          "solution": true,
          "task": false
        },
        "colab": {
          "base_uri": "https://localhost:8080/"
        },
        "id": "84c47e9d",
        "outputId": "54914eb5-1e71-4486-e7f9-1865fd0c2e1b"
      },
      "outputs": [
        {
          "output_type": "stream",
          "name": "stdout",
          "text": [
            "False Positives: 2\n",
            "True Positives: 4\n",
            "False Negatives: 2\n",
            "True Negatives: 2\n"
          ]
        }
      ],
      "source": [
        "#Please use the same order as listed above\n",
        "\n",
        "y_true=[1, 1, 0, 0, 1, 1, 1, 1, 0, 0]\n",
        "y_pred=[1, 0, 0, 1, 1, 0, 1, 1, 0, 1]\n",
        "\n",
        "#use the same variable names in your solution\n",
        "tp=0\n",
        "fp=0\n",
        "fn=0\n",
        "tn=0\n",
        "\n",
        "for i in range(len(y_true)):\n",
        "  if y_true[i] == 1 and y_pred[i] == 1:\n",
        "    tp = tp + 1\n",
        "  elif y_true[i] == 1 and y_pred[i] == 0:\n",
        "    fn = fn + 1\n",
        "  elif y_true[i] == 0 and y_pred[i] == 1:\n",
        "    fp = fp + 1\n",
        "  else:\n",
        "    tn = tn + 1\n",
        "print('False Positives:',fp)\n",
        "print('True Positives:',tp)\n",
        "print('False Negatives:',fn)\n",
        "print('True Negatives:',tn)"
      ]
    },
    {
      "cell_type": "code",
      "execution_count": null,
      "id": "b00b4de1",
      "metadata": {
        "deletable": false,
        "editable": false,
        "nbgrader": {
          "cell_type": "code",
          "checksum": "a4f50ad25e5a54e032f0c8653b53d446",
          "grade": true,
          "grade_id": "1",
          "locked": true,
          "points": 6,
          "schema_version": 3,
          "solution": false,
          "task": false
        },
        "id": "b00b4de1"
      },
      "outputs": [],
      "source": [
        "#[6 points] Test cell-1\n",
        "#DO NOT MODIFY/DELETE THIS CELL \n",
        "assert tp==4\n",
        "assert fp==2\n",
        "assert len(y_true)==10"
      ]
    },
    {
      "cell_type": "code",
      "execution_count": null,
      "id": "c19c71ca",
      "metadata": {
        "deletable": false,
        "editable": false,
        "nbgrader": {
          "cell_type": "code",
          "checksum": "ecf28a829e47ecc2c76f83ba594e4033",
          "grade": true,
          "grade_id": "2",
          "locked": true,
          "points": 4,
          "schema_version": 3,
          "solution": false,
          "task": false
        },
        "id": "c19c71ca"
      },
      "outputs": [],
      "source": [
        "#[4 points] Test cell-2 Hidden tests\n",
        "#DO NOT MODIFY/DELETE THIS CELL "
      ]
    },
    {
      "cell_type": "markdown",
      "id": "cc2f89ad",
      "metadata": {
        "deletable": false,
        "editable": false,
        "nbgrader": {
          "cell_type": "markdown",
          "checksum": "d31bfa57be7509cca3b1660894ff0b8f",
          "grade": false,
          "grade_id": "q2",
          "locked": true,
          "schema_version": 3,
          "solution": false,
          "task": false
        },
        "id": "cc2f89ad"
      },
      "source": [
        "#### Q2 [5 points]. Given `y_true` which is the groundtruth (or the actual class labels), \n",
        "#### create a \"list\" of predicted labels `y_pred` that reflects the corresponding worst-performing model where accuracy will be '0'. \n"
      ]
    },
    {
      "cell_type": "code",
      "execution_count": null,
      "id": "3e0c19e4",
      "metadata": {
        "deletable": false,
        "nbgrader": {
          "cell_type": "code",
          "checksum": "f2c9d13a86a5e6a6079d4cdcfde31a4b",
          "grade": false,
          "grade_id": "q2-sol",
          "locked": false,
          "schema_version": 3,
          "solution": true,
          "task": false
        },
        "id": "3e0c19e4"
      },
      "outputs": [],
      "source": [
        "from sklearn.metrics import accuracy_score\n",
        "\n",
        "y_true = [1, 1, 1, 1, 1, 1, 1, 1, 1]\n",
        "y_pred = [0, 0, 0, 0, 0, 0, 0, 0, 0]\n"
      ]
    },
    {
      "cell_type": "code",
      "execution_count": null,
      "id": "fda1be81",
      "metadata": {
        "deletable": false,
        "editable": false,
        "nbgrader": {
          "cell_type": "code",
          "checksum": "6a7e2a03780cbc0f6fdd56a9403e8749",
          "grade": true,
          "grade_id": "3",
          "locked": true,
          "points": 3,
          "schema_version": 3,
          "solution": false,
          "task": false
        },
        "id": "fda1be81"
      },
      "outputs": [],
      "source": [
        "#[3 points] Test cell-3\n",
        "#DO NOT MODIFY/DELETE THIS CELL\n",
        "assert accuracy_score(y_true, y_pred)==0"
      ]
    },
    {
      "cell_type": "code",
      "execution_count": null,
      "id": "53e8a12f",
      "metadata": {
        "deletable": false,
        "editable": false,
        "nbgrader": {
          "cell_type": "code",
          "checksum": "09053dc0cee38f07a7a17f33afc878e4",
          "grade": true,
          "grade_id": "4",
          "locked": true,
          "points": 2,
          "schema_version": 3,
          "solution": false,
          "task": false
        },
        "id": "53e8a12f"
      },
      "outputs": [],
      "source": [
        "#[2 points] Test cell-4 Hidden tests\n",
        "#DO NOT MODIFY/DELETE THIS CELL "
      ]
    },
    {
      "cell_type": "markdown",
      "id": "f1fc868b",
      "metadata": {
        "deletable": false,
        "editable": false,
        "nbgrader": {
          "cell_type": "markdown",
          "checksum": "7bd2335952fc95e986f741e73bab25ca",
          "grade": false,
          "grade_id": "q3",
          "locked": true,
          "schema_version": 3,
          "solution": false,
          "task": false
        },
        "id": "f1fc868b"
      },
      "source": [
        "#### Q3 [10 points]. Use the `titanic` dataset and perform these operations in the same order as follows. \n",
        "<ol>\n",
        "    <li>Read the data from the url listed below into a dataframe `df`. </li>\n",
        "    <li>Assign `alive` column from the dataframe `df` as a variable `y_true` corresponding the ground truth labels. </li>\n",
        "    <li>Convert the values of `y_true` from categorical to numerical \n",
        "        <ol>\n",
        "            <li>if `yes` to integer value 1</li> \n",
        "            <li>if `no` to integer value 0 </li>\n",
        "        </ol>\n",
        "    </li>\n",
        "    <li>Convert `y_true` to a list (note that any subset of a dataframe will also be a dataframe)</li>\n",
        "    <li>Take another list `y_pred` (which will be a list of predicted values and) has the same length as `y_true`. </li>\n",
        "    <li>Insert value 1 at all the indices of this list `y_pred`. </li>\n",
        "    <li>Now use these lists `y_pred` and `y_true` to compute true positive rate and sensitivity values as `tpr` and `sens` variables respectively. </li>\n",
        "</ol>"
      ]
    },
    {
      "cell_type": "code",
      "execution_count": null,
      "id": "a72195a3",
      "metadata": {
        "deletable": false,
        "nbgrader": {
          "cell_type": "code",
          "checksum": "daa68216e33b0698c1323c5b33508f9d",
          "grade": false,
          "grade_id": "q3-sol",
          "locked": false,
          "schema_version": 3,
          "solution": true,
          "task": false
        },
        "colab": {
          "base_uri": "https://localhost:8080/"
        },
        "id": "a72195a3",
        "outputId": "dd2f1ecb-a440-49cb-e7c4-94cdc8d8e24e"
      },
      "outputs": [
        {
          "output_type": "stream",
          "name": "stdout",
          "text": [
            "False Positives: 549\n",
            "True Positives: 342\n",
            "False Negatives: 0\n",
            "True Negatives: 0\n",
            "True Positivity Rate: 1.0\n",
            "Sensitivity: 1.0\n"
          ]
        }
      ],
      "source": [
        "import pandas as pd\n",
        "url='https://raw.githubusercontent.com/lmanikon/lmanikon.github.io/master/teaching/datasets/titanic.csv'\n",
        "\n",
        "df = pd.read_csv(url)\n",
        "df.head()\n",
        "y_true = df['alive']\n",
        "y_true.replace({'yes': 1 , 'no': 0}, inplace=True)\n",
        "\n",
        "y_pred = []\n",
        "for i in range(1,892):\n",
        "  y_pred.append(1)\n",
        "y_true = y_true.tolist()\n",
        "\n",
        "fp = 0\n",
        "tp = 0\n",
        "fn = 0\n",
        "tn = 0\n",
        "\n",
        "for i in range(len(y_true)):\n",
        "  if y_true[i] == 1 and y_pred[i] == 1:\n",
        "    tp = tp + 1\n",
        "  elif y_true[i] == 1 and y_pred[i] == 0:\n",
        "    fn = fn + 1\n",
        "  elif y_true[i] == 0 and y_pred[i] == 1:\n",
        "    fp = fp + 1\n",
        "  else:\n",
        "    tn = tn + 1\n",
        "\n",
        "print('False Positives:',fp)\n",
        "print('True Positives:',tp)\n",
        "print('False Negatives:',fn)\n",
        "print('True Negatives:',tn)\n",
        "\n",
        "tpr = tp / (tp + fn)\n",
        "print('True Positivity Rate:',tpr)\n",
        "sens = tp / (tp + fn)\n",
        "print('Sensitivity:',sens)"
      ]
    },
    {
      "cell_type": "code",
      "execution_count": null,
      "id": "2dafc63b",
      "metadata": {
        "deletable": false,
        "editable": false,
        "nbgrader": {
          "cell_type": "code",
          "checksum": "e87f55c12c53805456a91e7fcdd3042f",
          "grade": true,
          "grade_id": "5",
          "locked": true,
          "points": 6,
          "schema_version": 3,
          "solution": false,
          "task": false
        },
        "id": "2dafc63b"
      },
      "outputs": [],
      "source": [
        "#[6 points] Test cell-5\n",
        "#DO NOT MODIFY/DELETE THIS CELL\n",
        "assert sum(y_true)==342\n",
        "assert sens==1.0\n",
        "assert tpr==1.0"
      ]
    },
    {
      "cell_type": "code",
      "execution_count": null,
      "id": "12fc13ad",
      "metadata": {
        "deletable": false,
        "editable": false,
        "nbgrader": {
          "cell_type": "code",
          "checksum": "c9bd525cdff0df0c60c26ccc458d13fc",
          "grade": true,
          "grade_id": "6",
          "locked": true,
          "points": 4,
          "schema_version": 3,
          "solution": false,
          "task": false
        },
        "id": "12fc13ad"
      },
      "outputs": [],
      "source": [
        "#[4 points] Test cell-6 Hidden tests\n",
        "#DO NOT MODIFY/DELETE THIS CELL "
      ]
    },
    {
      "cell_type": "markdown",
      "id": "11975197",
      "metadata": {
        "deletable": false,
        "editable": false,
        "nbgrader": {
          "cell_type": "markdown",
          "checksum": "64d75486f2a6df91c6fa0dbc23e2fdeb",
          "grade": false,
          "grade_id": "q4",
          "locked": true,
          "schema_version": 3,
          "solution": false,
          "task": false
        },
        "id": "11975197"
      },
      "source": [
        "#### Q4 [5 points]. Given string-based `y_pred` and `y_true` lists corresponding to the predicted and actual class labels respectively, compute the accuracy score and assign it to a variable `acc`. "
      ]
    },
    {
      "cell_type": "code",
      "execution_count": null,
      "id": "b31dfbbe",
      "metadata": {
        "deletable": false,
        "nbgrader": {
          "cell_type": "code",
          "checksum": "752876cf002d7b6872f5cc271b54ec8f",
          "grade": false,
          "grade_id": "q4-sol",
          "locked": false,
          "schema_version": 3,
          "solution": true,
          "task": false
        },
        "id": "b31dfbbe",
        "colab": {
          "base_uri": "https://localhost:8080/"
        },
        "outputId": "82675416-5648-43ee-feea-a68d5647562b"
      },
      "outputs": [
        {
          "output_type": "stream",
          "name": "stdout",
          "text": [
            "False Positives: 0\n",
            "True Positives: 2\n",
            "False Negatives: 1\n",
            "True Negatives: 2\n",
            "0.8\n"
          ]
        }
      ],
      "source": [
        "y_true = [\"cat\", \"dog\", \"cat\", \"cat\", \"dog\"]\n",
        "y_pred = [\"dog\", \"dog\", \"cat\", \"cat\", \"dog\"]\n",
        "acc=0\n",
        "\n",
        "tp = 0\n",
        "fn = 0\n",
        "fp = 0\n",
        "tn = 0\n",
        "\n",
        "for i in range(len(y_true)):\n",
        "  if y_true[i] == 'cat' and y_pred[i] == 'cat':\n",
        "    tp = tp + 1\n",
        "  elif y_true[i] == 'cat' and y_pred[i] == 'dog':\n",
        "    fn = fn + 1\n",
        "  elif y_true[i] == 'dog' and y_pred[i] == 'cat':\n",
        "    fp = fp + 1\n",
        "  else:\n",
        "    tn = tn + 1\n",
        "\n",
        "print('False Positives:',fp)\n",
        "print('True Positives:',tp)\n",
        "print('False Negatives:',fn)\n",
        "print('True Negatives:',tn)\n",
        "\n",
        "acc = (tp + tn) / (tp + tn + fp + fn)\n",
        "print(acc)"
      ]
    },
    {
      "cell_type": "code",
      "execution_count": null,
      "id": "9784ab0e",
      "metadata": {
        "deletable": false,
        "editable": false,
        "nbgrader": {
          "cell_type": "code",
          "checksum": "33f74694d08045835c106db55c411dea",
          "grade": true,
          "grade_id": "7",
          "locked": true,
          "points": 5,
          "schema_version": 3,
          "solution": false,
          "task": false
        },
        "id": "9784ab0e"
      },
      "outputs": [],
      "source": [
        "#[5 points] Test cell-7\n",
        "#DO NOT MODIFY/DELETE THIS CELL\n",
        "assert acc==0.8"
      ]
    },
    {
      "cell_type": "markdown",
      "id": "9bfd9512",
      "metadata": {
        "deletable": false,
        "editable": false,
        "nbgrader": {
          "cell_type": "markdown",
          "checksum": "8989f9f8d04bdce472e36aa423e920e9",
          "grade": false,
          "grade_id": "q5",
          "locked": true,
          "schema_version": 3,
          "solution": false,
          "task": false
        },
        "id": "9bfd9512"
      },
      "source": [
        "#### Q5 [10 points]. Compute precision and recall values at the indices 2, 4, 6, and 8 when given the `y_true` and `y_pred` correspond to actual and predicted labels of data points respectively. \n",
        "\n",
        "<ol>\n",
        "    <li>Return these values as lists `precision` and `recall`. Both these lists are of size 4 where index=0, 1, 2, 3 has precision and recall values when computed using `y_true` and `y_pred` at indices 2,4,6,8 respectively. </li>\n",
        "    <li>Each value in the lists `precision` and `recall` are rounded to 2 digits after the decimal point. For example, convert 3.4211 to 3.42</li>\n",
        "</ol>"
      ]
    },
    {
      "cell_type": "code",
      "execution_count": null,
      "id": "09a318fc",
      "metadata": {
        "deletable": false,
        "nbgrader": {
          "cell_type": "code",
          "checksum": "8d060f37b9c37d00564e81f04a1797a7",
          "grade": false,
          "grade_id": "q5-sol",
          "locked": false,
          "schema_version": 3,
          "solution": true,
          "task": false
        },
        "id": "09a318fc",
        "colab": {
          "base_uri": "https://localhost:8080/"
        },
        "outputId": "83082849-dc73-4895-ff57-211fc2c6c4ce"
      },
      "outputs": [
        {
          "output_type": "stream",
          "name": "stdout",
          "text": [
            "[1.0, 0.67, 0.75, 0.67]\n",
            "[0.5, 0.67, 0.6, 0.67]\n"
          ]
        }
      ],
      "source": [
        "y_true=[1, 1, 0, 0, 1, 1, 1, 1, 0, 1]\n",
        "y_pred=[1, 0, 0, 1, 1, 0, 1, 1, 1, 0]\n",
        "      #[tp,fn,tn,fp,tp,fn,tp,tp,fp,fn]\n",
        "\n",
        "precision=[] #prec = tp / (tp + fp)\n",
        "recall=[] #recall = tp / (tp + fn)\n",
        "\n",
        "tp = [] #4 total\n",
        "fn = [] #3 total\n",
        "fp = [] #2 total\n",
        "tn = [] #1 total\n",
        "\n",
        "for i in range(len(y_true)):\n",
        "  if y_true[i] == 1 and y_pred[i] == 1:\n",
        "    tp.append(1)\n",
        "    fn.append(0)\n",
        "    fp.append(0)\n",
        "    tn.append(0)\n",
        "  elif y_true[i] == 1 and y_pred[i] == 0:\n",
        "    fn.append(1)\n",
        "    tp.append(0)\n",
        "    fp.append(0)\n",
        "    tn.append(0)\n",
        "  elif y_true[i] == 0 and y_pred[i] == 1:\n",
        "    fp.append(1)\n",
        "    tp.append(0)\n",
        "    fn.append(0)\n",
        "    tn.append(0)\n",
        "  elif y_true[i] == 0 and y_pred[i] == 0:\n",
        "    tn.append(1)\n",
        "    tp.append(0)\n",
        "    fp.append(0)\n",
        "    fn.append(0)\n",
        "  if i == 2 or i == 4 or i == 6 or i == 8:\n",
        "    prec = round(sum(tp[0:i+1]) / (sum(tp[0:i+1]) + sum(fp[0:i+1])),2)\n",
        "    rec = round(sum(tp[0:i+1]) / (sum(tp[0:i+1]) + sum(fn[0:i+1])),2)\n",
        "    precision.append(prec)\n",
        "    recall.append(rec)\n",
        "\n",
        "print(precision)\n",
        "print(recall)"
      ]
    },
    {
      "cell_type": "code",
      "execution_count": null,
      "id": "4428a256",
      "metadata": {
        "deletable": false,
        "editable": false,
        "nbgrader": {
          "cell_type": "code",
          "checksum": "d3a9184543dc530020bbe94e835cc66e",
          "grade": true,
          "grade_id": "8",
          "locked": true,
          "points": 5,
          "schema_version": 3,
          "solution": false,
          "task": false
        },
        "id": "4428a256"
      },
      "outputs": [],
      "source": [
        "#[5 points] Test cell-8\n",
        "#DO NOT MODIFY/DELETE THIS CELL\n",
        "assert precision[0]==1.0\n",
        "assert recall[0]==0.5\n",
        "assert precision[2]==0.75\n",
        "assert recall[3]==0.67\n",
        "assert len(recall)==4"
      ]
    },
    {
      "cell_type": "code",
      "execution_count": null,
      "id": "abccaec1",
      "metadata": {
        "deletable": false,
        "editable": false,
        "nbgrader": {
          "cell_type": "code",
          "checksum": "509faff58d9bfbedca80669f269fa547",
          "grade": true,
          "grade_id": "9",
          "locked": true,
          "points": 5,
          "schema_version": 3,
          "solution": false,
          "task": false
        },
        "id": "abccaec1"
      },
      "outputs": [],
      "source": [
        "#[5 points] Test cell-9 Hidden tests\n",
        "#DO NOT MODIFY/DELETE THIS CELL "
      ]
    },
    {
      "cell_type": "code",
      "execution_count": null,
      "id": "bff46b96",
      "metadata": {
        "deletable": false,
        "editable": false,
        "nbgrader": {
          "cell_type": "code",
          "checksum": "92401dc188cf1100fdc81dd04f5ec1bf",
          "grade": false,
          "grade_id": "q6-data",
          "locked": true,
          "schema_version": 3,
          "solution": false,
          "task": false
        },
        "id": "bff46b96",
        "colab": {
          "base_uri": "https://localhost:8080/",
          "height": 424
        },
        "outputId": "c2de4091-c946-494c-9f73-5160a7326158"
      },
      "outputs": [
        {
          "output_type": "execute_result",
          "data": {
            "text/html": [
              "\n",
              "  <div id=\"df-f780c0a6-2bd7-4540-9fc9-b7edbaf7e591\">\n",
              "    <div class=\"colab-df-container\">\n",
              "      <div>\n",
              "<style scoped>\n",
              "    .dataframe tbody tr th:only-of-type {\n",
              "        vertical-align: middle;\n",
              "    }\n",
              "\n",
              "    .dataframe tbody tr th {\n",
              "        vertical-align: top;\n",
              "    }\n",
              "\n",
              "    .dataframe thead th {\n",
              "        text-align: right;\n",
              "    }\n",
              "</style>\n",
              "<table border=\"1\" class=\"dataframe\">\n",
              "  <thead>\n",
              "    <tr style=\"text-align: right;\">\n",
              "      <th></th>\n",
              "      <th>Age</th>\n",
              "      <th>SibSp</th>\n",
              "      <th>Parch</th>\n",
              "      <th>Fare</th>\n",
              "      <th>Pclass_2</th>\n",
              "      <th>Pclass_3</th>\n",
              "      <th>Gender_male</th>\n",
              "      <th>Embarked_Q</th>\n",
              "      <th>Embarked_S</th>\n",
              "      <th>Survived</th>\n",
              "      <th>pred_prob</th>\n",
              "      <th>pred</th>\n",
              "    </tr>\n",
              "  </thead>\n",
              "  <tbody>\n",
              "    <tr>\n",
              "      <th>0</th>\n",
              "      <td>22.000000</td>\n",
              "      <td>1</td>\n",
              "      <td>0</td>\n",
              "      <td>7.2500</td>\n",
              "      <td>0</td>\n",
              "      <td>1</td>\n",
              "      <td>1</td>\n",
              "      <td>0</td>\n",
              "      <td>1</td>\n",
              "      <td>0</td>\n",
              "      <td>0.1</td>\n",
              "      <td>0</td>\n",
              "    </tr>\n",
              "    <tr>\n",
              "      <th>1</th>\n",
              "      <td>38.000000</td>\n",
              "      <td>1</td>\n",
              "      <td>0</td>\n",
              "      <td>71.2833</td>\n",
              "      <td>0</td>\n",
              "      <td>0</td>\n",
              "      <td>0</td>\n",
              "      <td>0</td>\n",
              "      <td>0</td>\n",
              "      <td>1</td>\n",
              "      <td>0.3</td>\n",
              "      <td>0</td>\n",
              "    </tr>\n",
              "    <tr>\n",
              "      <th>2</th>\n",
              "      <td>26.000000</td>\n",
              "      <td>0</td>\n",
              "      <td>0</td>\n",
              "      <td>7.9250</td>\n",
              "      <td>0</td>\n",
              "      <td>1</td>\n",
              "      <td>0</td>\n",
              "      <td>0</td>\n",
              "      <td>1</td>\n",
              "      <td>1</td>\n",
              "      <td>0.3</td>\n",
              "      <td>0</td>\n",
              "    </tr>\n",
              "    <tr>\n",
              "      <th>3</th>\n",
              "      <td>35.000000</td>\n",
              "      <td>1</td>\n",
              "      <td>0</td>\n",
              "      <td>53.1000</td>\n",
              "      <td>0</td>\n",
              "      <td>0</td>\n",
              "      <td>0</td>\n",
              "      <td>0</td>\n",
              "      <td>1</td>\n",
              "      <td>1</td>\n",
              "      <td>0.6</td>\n",
              "      <td>1</td>\n",
              "    </tr>\n",
              "    <tr>\n",
              "      <th>4</th>\n",
              "      <td>35.000000</td>\n",
              "      <td>0</td>\n",
              "      <td>0</td>\n",
              "      <td>8.0500</td>\n",
              "      <td>0</td>\n",
              "      <td>1</td>\n",
              "      <td>1</td>\n",
              "      <td>0</td>\n",
              "      <td>1</td>\n",
              "      <td>0</td>\n",
              "      <td>0.0</td>\n",
              "      <td>0</td>\n",
              "    </tr>\n",
              "    <tr>\n",
              "      <th>...</th>\n",
              "      <td>...</td>\n",
              "      <td>...</td>\n",
              "      <td>...</td>\n",
              "      <td>...</td>\n",
              "      <td>...</td>\n",
              "      <td>...</td>\n",
              "      <td>...</td>\n",
              "      <td>...</td>\n",
              "      <td>...</td>\n",
              "      <td>...</td>\n",
              "      <td>...</td>\n",
              "      <td>...</td>\n",
              "    </tr>\n",
              "    <tr>\n",
              "      <th>886</th>\n",
              "      <td>27.000000</td>\n",
              "      <td>0</td>\n",
              "      <td>0</td>\n",
              "      <td>13.0000</td>\n",
              "      <td>1</td>\n",
              "      <td>0</td>\n",
              "      <td>1</td>\n",
              "      <td>0</td>\n",
              "      <td>1</td>\n",
              "      <td>0</td>\n",
              "      <td>0.3</td>\n",
              "      <td>0</td>\n",
              "    </tr>\n",
              "    <tr>\n",
              "      <th>887</th>\n",
              "      <td>19.000000</td>\n",
              "      <td>0</td>\n",
              "      <td>0</td>\n",
              "      <td>30.0000</td>\n",
              "      <td>0</td>\n",
              "      <td>0</td>\n",
              "      <td>0</td>\n",
              "      <td>0</td>\n",
              "      <td>1</td>\n",
              "      <td>1</td>\n",
              "      <td>0.8</td>\n",
              "      <td>1</td>\n",
              "    </tr>\n",
              "    <tr>\n",
              "      <th>888</th>\n",
              "      <td>29.699118</td>\n",
              "      <td>1</td>\n",
              "      <td>2</td>\n",
              "      <td>23.4500</td>\n",
              "      <td>0</td>\n",
              "      <td>1</td>\n",
              "      <td>0</td>\n",
              "      <td>0</td>\n",
              "      <td>1</td>\n",
              "      <td>0</td>\n",
              "      <td>0.4</td>\n",
              "      <td>0</td>\n",
              "    </tr>\n",
              "    <tr>\n",
              "      <th>889</th>\n",
              "      <td>26.000000</td>\n",
              "      <td>0</td>\n",
              "      <td>0</td>\n",
              "      <td>30.0000</td>\n",
              "      <td>0</td>\n",
              "      <td>0</td>\n",
              "      <td>1</td>\n",
              "      <td>0</td>\n",
              "      <td>0</td>\n",
              "      <td>1</td>\n",
              "      <td>0.4</td>\n",
              "      <td>0</td>\n",
              "    </tr>\n",
              "    <tr>\n",
              "      <th>890</th>\n",
              "      <td>32.000000</td>\n",
              "      <td>0</td>\n",
              "      <td>0</td>\n",
              "      <td>7.7500</td>\n",
              "      <td>0</td>\n",
              "      <td>1</td>\n",
              "      <td>1</td>\n",
              "      <td>1</td>\n",
              "      <td>0</td>\n",
              "      <td>0</td>\n",
              "      <td>0.2</td>\n",
              "      <td>0</td>\n",
              "    </tr>\n",
              "  </tbody>\n",
              "</table>\n",
              "<p>891 rows × 12 columns</p>\n",
              "</div>\n",
              "      <button class=\"colab-df-convert\" onclick=\"convertToInteractive('df-f780c0a6-2bd7-4540-9fc9-b7edbaf7e591')\"\n",
              "              title=\"Convert this dataframe to an interactive table.\"\n",
              "              style=\"display:none;\">\n",
              "        \n",
              "  <svg xmlns=\"http://www.w3.org/2000/svg\" height=\"24px\"viewBox=\"0 0 24 24\"\n",
              "       width=\"24px\">\n",
              "    <path d=\"M0 0h24v24H0V0z\" fill=\"none\"/>\n",
              "    <path d=\"M18.56 5.44l.94 2.06.94-2.06 2.06-.94-2.06-.94-.94-2.06-.94 2.06-2.06.94zm-11 1L8.5 8.5l.94-2.06 2.06-.94-2.06-.94L8.5 2.5l-.94 2.06-2.06.94zm10 10l.94 2.06.94-2.06 2.06-.94-2.06-.94-.94-2.06-.94 2.06-2.06.94z\"/><path d=\"M17.41 7.96l-1.37-1.37c-.4-.4-.92-.59-1.43-.59-.52 0-1.04.2-1.43.59L10.3 9.45l-7.72 7.72c-.78.78-.78 2.05 0 2.83L4 21.41c.39.39.9.59 1.41.59.51 0 1.02-.2 1.41-.59l7.78-7.78 2.81-2.81c.8-.78.8-2.07 0-2.86zM5.41 20L4 18.59l7.72-7.72 1.47 1.35L5.41 20z\"/>\n",
              "  </svg>\n",
              "      </button>\n",
              "      \n",
              "  <style>\n",
              "    .colab-df-container {\n",
              "      display:flex;\n",
              "      flex-wrap:wrap;\n",
              "      gap: 12px;\n",
              "    }\n",
              "\n",
              "    .colab-df-convert {\n",
              "      background-color: #E8F0FE;\n",
              "      border: none;\n",
              "      border-radius: 50%;\n",
              "      cursor: pointer;\n",
              "      display: none;\n",
              "      fill: #1967D2;\n",
              "      height: 32px;\n",
              "      padding: 0 0 0 0;\n",
              "      width: 32px;\n",
              "    }\n",
              "\n",
              "    .colab-df-convert:hover {\n",
              "      background-color: #E2EBFA;\n",
              "      box-shadow: 0px 1px 2px rgba(60, 64, 67, 0.3), 0px 1px 3px 1px rgba(60, 64, 67, 0.15);\n",
              "      fill: #174EA6;\n",
              "    }\n",
              "\n",
              "    [theme=dark] .colab-df-convert {\n",
              "      background-color: #3B4455;\n",
              "      fill: #D2E3FC;\n",
              "    }\n",
              "\n",
              "    [theme=dark] .colab-df-convert:hover {\n",
              "      background-color: #434B5C;\n",
              "      box-shadow: 0px 1px 3px 1px rgba(0, 0, 0, 0.15);\n",
              "      filter: drop-shadow(0px 1px 2px rgba(0, 0, 0, 0.3));\n",
              "      fill: #FFFFFF;\n",
              "    }\n",
              "  </style>\n",
              "\n",
              "      <script>\n",
              "        const buttonEl =\n",
              "          document.querySelector('#df-f780c0a6-2bd7-4540-9fc9-b7edbaf7e591 button.colab-df-convert');\n",
              "        buttonEl.style.display =\n",
              "          google.colab.kernel.accessAllowed ? 'block' : 'none';\n",
              "\n",
              "        async function convertToInteractive(key) {\n",
              "          const element = document.querySelector('#df-f780c0a6-2bd7-4540-9fc9-b7edbaf7e591');\n",
              "          const dataTable =\n",
              "            await google.colab.kernel.invokeFunction('convertToInteractive',\n",
              "                                                     [key], {});\n",
              "          if (!dataTable) return;\n",
              "\n",
              "          const docLinkHtml = 'Like what you see? Visit the ' +\n",
              "            '<a target=\"_blank\" href=https://colab.research.google.com/notebooks/data_table.ipynb>data table notebook</a>'\n",
              "            + ' to learn more about interactive tables.';\n",
              "          element.innerHTML = '';\n",
              "          dataTable['output_type'] = 'display_data';\n",
              "          await google.colab.output.renderOutput(dataTable, element);\n",
              "          const docLink = document.createElement('div');\n",
              "          docLink.innerHTML = docLinkHtml;\n",
              "          element.appendChild(docLink);\n",
              "        }\n",
              "      </script>\n",
              "    </div>\n",
              "  </div>\n",
              "  "
            ],
            "text/plain": [
              "           Age  SibSp  Parch     Fare  ...  Embarked_S  Survived  pred_prob  pred\n",
              "0    22.000000      1      0   7.2500  ...           1         0        0.1     0\n",
              "1    38.000000      1      0  71.2833  ...           0         1        0.3     0\n",
              "2    26.000000      0      0   7.9250  ...           1         1        0.3     0\n",
              "3    35.000000      1      0  53.1000  ...           1         1        0.6     1\n",
              "4    35.000000      0      0   8.0500  ...           1         0        0.0     0\n",
              "..         ...    ...    ...      ...  ...         ...       ...        ...   ...\n",
              "886  27.000000      0      0  13.0000  ...           1         0        0.3     0\n",
              "887  19.000000      0      0  30.0000  ...           1         1        0.8     1\n",
              "888  29.699118      1      2  23.4500  ...           1         0        0.4     0\n",
              "889  26.000000      0      0  30.0000  ...           0         1        0.4     0\n",
              "890  32.000000      0      0   7.7500  ...           0         0        0.2     0\n",
              "\n",
              "[891 rows x 12 columns]"
            ]
          },
          "metadata": {},
          "execution_count": 15
        }
      ],
      "source": [
        "#Please run this cell before answering Q6 and do not delete/modify anything\n",
        "import pandas as pd\n",
        "df=pd.read_csv('https://raw.githubusercontent.com/lmanikon/lmanikon.github.io/master/teaching/datasets/titanic_processed_train3.csv')\n",
        "#View the dataframe\n",
        "df"
      ]
    },
    {
      "cell_type": "markdown",
      "id": "a77a23f1",
      "metadata": {
        "deletable": false,
        "editable": false,
        "nbgrader": {
          "cell_type": "markdown",
          "checksum": "5cc2a3150fa71a4afb2a12c73d59922a",
          "grade": false,
          "grade_id": "q6",
          "locked": true,
          "schema_version": 3,
          "solution": false,
          "task": false
        },
        "id": "a77a23f1"
      },
      "source": [
        "#### Q6 [10 points]. By using the columns `Survived` and `Pred` as the groundtruth and predicted class labels respectively and `pred_prob` as class probabilities of the input samples in the dataframe `df`, \n",
        "\n",
        "#### calculate: \n",
        "<ol>\n",
        "    <li>accuracy and assign it to variable `tacc`</li>\n",
        "    <li>precision and assign it to variable `tprec` </li>\n",
        "    <li>recall and assign it to variable `trecall` </li> \n",
        "    <li>Area Under the Receiver Operating Characteristic Curve (ROC AUC) and assign it to variable `tauc` </li> \n",
        "</ol>"
      ]
    },
    {
      "cell_type": "code",
      "execution_count": null,
      "id": "ae383613",
      "metadata": {
        "deletable": false,
        "nbgrader": {
          "cell_type": "code",
          "checksum": "4f646ca5ad54f08e80392e9a9c570a98",
          "grade": false,
          "grade_id": "q6-sol",
          "locked": false,
          "schema_version": 3,
          "solution": true,
          "task": false
        },
        "id": "ae383613",
        "colab": {
          "base_uri": "https://localhost:8080/"
        },
        "outputId": "cf5f3405-3b6f-418a-d15e-b378c7b9c460"
      },
      "outputs": [
        {
          "output_type": "stream",
          "name": "stdout",
          "text": [
            "0.8007941073083438\n"
          ]
        }
      ],
      "source": [
        "#Compute accuracy, precision, recall and area under curve \n",
        "\n",
        "import pandas as pd\n",
        "import numpy as np\n",
        "from sklearn.model_selection import train_test_split\n",
        "from sklearn.linear_model import LogisticRegression\n",
        "from sklearn.metrics import average_precision_score, precision_recall_curve\n",
        "from sklearn.metrics import auc, plot_precision_recall_curve\n",
        "from sklearn.metrics import roc_auc_score\n",
        "from sklearn import metrics\n",
        "\n",
        "df_true = df['Survived']\n",
        "df_pred = df['pred']\n",
        "df_true_new = df_true.values.reshape(-1,1)\n",
        "df_pred_new = df_pred.values.reshape(-1,1)\n",
        "\n",
        "tp = 0\n",
        "fn = 0\n",
        "fp = 0\n",
        "tn = 0\n",
        "\n",
        "for i in range(len(df_true)):\n",
        "  if df_true[i] == 1 and df_pred[i] == 1:\n",
        "    tp = tp + 1\n",
        "  elif df_true[i] == 1 and df_pred[i] == 0:\n",
        "    fn = fn + 1\n",
        "  elif df_true[i] == 0 and df_pred[i] == 1:\n",
        "    fp = fp + 1\n",
        "  else:\n",
        "    tn = tn + 1\n",
        "\n",
        "tacc = (tp + tn) / (tp + tn + fp + fn)\n",
        "tprec = tp / (tp + fp)\n",
        "trecall = tp / (tp + fn)\n",
        "fpr = fp / (fp + tn)\n",
        "tauc = roc_auc_score(df_true_new, df['pred_prob'])\n",
        "\n",
        "print(tauc)\n"
      ]
    },
    {
      "cell_type": "code",
      "execution_count": null,
      "id": "22eff97b",
      "metadata": {
        "deletable": false,
        "editable": false,
        "nbgrader": {
          "cell_type": "code",
          "checksum": "ef14e661aaafdb80580ec3845f55997f",
          "grade": true,
          "grade_id": "10",
          "locked": true,
          "points": 8,
          "schema_version": 3,
          "solution": false,
          "task": false
        },
        "id": "22eff97b"
      },
      "outputs": [],
      "source": [
        "#[8 points] Test cell-10 \n",
        "#DO NOT MODIFY/DELETE THIS CELL \n",
        "assert round(tacc,4)==0.7351\n",
        "assert round(tprec,4)==0.7345\n",
        "assert round(trecall,4)==0.4854\n",
        "assert round(tauc,4)==0.8008"
      ]
    },
    {
      "cell_type": "code",
      "execution_count": null,
      "id": "47ade8d6",
      "metadata": {
        "deletable": false,
        "editable": false,
        "nbgrader": {
          "cell_type": "code",
          "checksum": "611453bbe6c37106fa51fcf45997a021",
          "grade": true,
          "grade_id": "11",
          "locked": true,
          "points": 2,
          "schema_version": 3,
          "solution": false,
          "task": false
        },
        "id": "47ade8d6"
      },
      "outputs": [],
      "source": [
        "#[2 points] Test cell-11 Hidden tests\n",
        "#DO NOT MODIFY/DELETE THIS CELL "
      ]
    },
    {
      "cell_type": "markdown",
      "id": "7929d9bc",
      "metadata": {
        "deletable": false,
        "editable": false,
        "nbgrader": {
          "cell_type": "markdown",
          "checksum": "6b7c71921e2101ce710de15d7bcc552b",
          "grade": false,
          "grade_id": "q7-desc",
          "locked": true,
          "schema_version": 3,
          "solution": false,
          "task": false
        },
        "id": "7929d9bc"
      },
      "source": [
        "#### Q7 [10 points]. Create a 1-D dataset in the form of a list `L1` that is of size 12 with values ranging from 10 to 120 with a step size of 10. For example, 1st 3 elements of this list are 10, 20, 30.\n",
        "\n",
        "#### Using `L1` calculate: \n",
        "<ol>\n",
        "    <li>Extract 4 folds using list `L1`. </li>\n",
        "    <li>For each fold -- append the mean of training data to `traindata` (as shown in Lecture-11) and the mean of testing data to `testdata`</li> \n",
        "    <li> Use the KFold() function to find the folds; np.mean() to compute the mean values</li>\n",
        "    \n",
        "</ol>"
      ]
    },
    {
      "cell_type": "code",
      "execution_count": null,
      "id": "f71eb526",
      "metadata": {
        "deletable": false,
        "nbgrader": {
          "cell_type": "code",
          "checksum": "8ca6195865309c8d7636160fbed8c5f2",
          "grade": false,
          "grade_id": "q7-sol",
          "locked": false,
          "schema_version": 3,
          "solution": true,
          "task": false
        },
        "id": "f71eb526",
        "colab": {
          "base_uri": "https://localhost:8080/"
        },
        "outputId": "d6329e31-f98a-4fef-c7f9-7ece71f502e3"
      },
      "outputs": [
        {
          "output_type": "stream",
          "name": "stdout",
          "text": [
            "[20.0, 50.0, 80.0, 110.0]\n",
            "[50.0, 80.0, 70.0, 60.0]\n"
          ]
        }
      ],
      "source": [
        "from sklearn.model_selection import KFold\n",
        "import numpy as np\n",
        "\n",
        "traindata=[]\n",
        "testdata=[]\n",
        "\n",
        "L1= np.array([10,20,30,40,50,60,70,80,90,100,110,120])\n",
        "kf = KFold(4)\n",
        "\n",
        "folds = {}\n",
        "count = 1\n",
        "\n",
        "# Creating folds\n",
        "for train, test in kf.split(L1):\n",
        "    folds['fold_{}'.format(count)] = {}\n",
        "    folds['fold_{}'.format(count)]['train'] = train.tolist()\n",
        "    folds['fold_{}'.format(count)]['test'] = test.tolist()\n",
        "    count += 1\n",
        "\n",
        "# Calculating means for test data\n",
        "for i in range(len(L1)):\n",
        "  if i == 0 or i == 3 or i == 6 or i == 9:\n",
        "    testmeancalc = np.mean(L1[i:i+3])\n",
        "    testdata.append(testmeancalc)\n",
        "\n",
        "print(testdata)\n",
        "\n",
        "# Calculating means for train data\n",
        "for i in range(len(L1)):\n",
        "  if i == 0 or i == 3:\n",
        "    trainmeancalc = np.mean(L1[i:i+9])\n",
        "    traindata.append(trainmeancalc)\n",
        "  if i == 6:\n",
        "    calc2 = (L1[i:i+3] + L1[i+3:i+6] + L1[i-6:i-3]) / 3\n",
        "    trainmean2 = np.mean(calc2)\n",
        "    traindata.append(trainmean2)\n",
        "  if i == 9:\n",
        "    calc3 = (L1[i:i+3] + L1[i-9:i-6] + L1[i-6:i-3]) / 3\n",
        "    trainmean3 = np.mean(calc3)\n",
        "    traindata.append(trainmean3)\n",
        "\n",
        "print(traindata)"
      ]
    },
    {
      "cell_type": "code",
      "execution_count": null,
      "id": "5c5d43a4",
      "metadata": {
        "deletable": false,
        "editable": false,
        "nbgrader": {
          "cell_type": "code",
          "checksum": "c53230461dcb72aca8356942057a5dfd",
          "grade": true,
          "grade_id": "12",
          "locked": true,
          "points": 2,
          "schema_version": 3,
          "solution": false,
          "task": false
        },
        "id": "5c5d43a4"
      },
      "outputs": [],
      "source": [
        "#[2 points] Test cell-12 \n",
        "#DO NOT MODIFY/DELETE THIS CELL\n",
        "assert L1[0]==10\n",
        "assert sum(L1)==780"
      ]
    },
    {
      "cell_type": "code",
      "execution_count": null,
      "id": "4ce0efa2",
      "metadata": {
        "deletable": false,
        "editable": false,
        "nbgrader": {
          "cell_type": "code",
          "checksum": "66f3f8505c4c8ce31c310efe7dea95f6",
          "grade": true,
          "grade_id": "13",
          "locked": true,
          "points": 3,
          "schema_version": 3,
          "solution": false,
          "task": false
        },
        "id": "4ce0efa2"
      },
      "outputs": [],
      "source": [
        "#[3 points] Test cell-13 Hidden tests\n",
        "#DO NOT MODIFY/DELETE THIS CELL"
      ]
    },
    {
      "cell_type": "code",
      "execution_count": null,
      "id": "b5d09ad2",
      "metadata": {
        "deletable": false,
        "editable": false,
        "nbgrader": {
          "cell_type": "code",
          "checksum": "4a95882daffeebb9fa76e59fc5d0b41b",
          "grade": true,
          "grade_id": "14",
          "locked": true,
          "points": 5,
          "schema_version": 3,
          "solution": false,
          "task": false
        },
        "id": "b5d09ad2"
      },
      "outputs": [],
      "source": [
        "#[5 points] Test cell-14 \n",
        "#DO NOT MODIFY/DELETE THIS CELL\n",
        "assert np.mean(traindata)==65.0\n",
        "assert np.mean(testdata)==65.0"
      ]
    }
  ],
  "metadata": {
    "kernelspec": {
      "display_name": "Python 3",
      "language": "python",
      "name": "python3"
    },
    "language_info": {
      "codemirror_mode": {
        "name": "ipython",
        "version": 3
      },
      "file_extension": ".py",
      "mimetype": "text/x-python",
      "name": "python",
      "nbconvert_exporter": "python",
      "pygments_lexer": "ipython3",
      "version": "3.8.8"
    },
    "colab": {
      "provenance": []
    }
  },
  "nbformat": 4,
  "nbformat_minor": 5
}