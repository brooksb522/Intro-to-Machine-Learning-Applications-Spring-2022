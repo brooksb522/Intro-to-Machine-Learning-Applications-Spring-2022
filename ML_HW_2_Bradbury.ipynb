{
  "cells": [
    {
      "cell_type": "markdown",
      "metadata": {
        "deletable": false,
        "editable": false,
        "nbgrader": {
          "cell_type": "markdown",
          "checksum": "04ece219ee2e68e9f006e3e7f7e91658",
          "grade": false,
          "grade_id": "Instructions",
          "locked": true,
          "schema_version": 3,
          "solution": false,
          "task": false
        },
        "id": "kQ2zzi5M3BDz"
      },
      "source": [
        "#### [Spring 2022] Homework-2 \n",
        "##### Total number of points: 70\n",
        "#### Due date: February 4th, 2022\n",
        "\n",
        "Before you submit this homework, make sure everything runs as expected. First, restart the kernel (in the menu, select Kernel → Restart) and then run all cells (in the menubar, select Cell → Run All). You can discuss with others regarding the homework but all work must be your own.\n",
        "\n",
        "This homework will test your knowledge on basics of Python. The Python notebooks shared will be helpful to solve these problems. \n",
        "\n",
        "Steps to evaluate your solutions:\n",
        "\n",
        "Step-1: Ensure you have installed Anaconda (Windows: https://docs.anaconda.com/anaconda/install/windows/ ; Mac:https://docs.anaconda.com/anaconda/install/mac-os/ ; Linux: https://docs.anaconda.com/anaconda/install/linux/)\n",
        "\n",
        "Step-2: Open the Jupyter Notebook by first launching the anaconda software console\n",
        "\n",
        "Step-3: Open the .ipynb file and write your solutions at the appropriate location \"# YOUR CODE HERE\"\n",
        "\n",
        "Step-4: You can restart the kernel and click run all (in the menubar, select Cell → Run All) on the center-right on the top of this window.\n",
        "\n",
        "Step-5: Now go to \"File\" then click on \"Download as\" then click on \"Notebook (.ipynb)\" Please DO NOT change the file name and just keep it as .ipynb file format\n",
        "\n",
        "Step-6: Go to lms.rpi.edu and upload your homework at the appropriate link to submit this homework.\n",
        "\n",
        "#### Please note that for any question in this assignment you will receive points ONLY if your solution passes all the test cases including hidden testcases as well. So please make sure you try to think all possible scenarios before submitting your answers.  \n",
        "- Note that hidden tests are present to ensure you are not hardcoding. \n",
        "- If caught cheating: \n",
        "    - you will receive a score of 0 for the 1st violation. \n",
        "    - for repeated incidents, you will receive an automatic 'F' grade and will be reported to the dean of Lally School of Management. "
      ]
    },
    {
      "cell_type": "markdown",
      "metadata": {
        "deletable": false,
        "editable": false,
        "nbgrader": {
          "cell_type": "markdown",
          "checksum": "087bcbe9e840af67ba75ddd3249a92ce",
          "grade": false,
          "grade_id": "q1-desc",
          "locked": true,
          "schema_version": 3,
          "solution": false,
          "task": false
        },
        "id": "vZpt6BkE3BD1"
      },
      "source": [
        "#### Q1 [10 points]. Write a function that takes a number and checks if it is a prime number. Return `True` if its a prime number or else `False`. \n"
      ]
    },
    {
      "cell_type": "code",
      "execution_count": 1,
      "metadata": {
        "deletable": false,
        "nbgrader": {
          "cell_type": "code",
          "checksum": "c8644b9c32706b7c03265c28544a2eba",
          "grade": false,
          "grade_id": "q1-sol",
          "locked": false,
          "schema_version": 3,
          "solution": true,
          "task": false
        },
        "colab": {
          "base_uri": "https://localhost:8080/"
        },
        "id": "GBB9AdRG3BD1",
        "outputId": "2f895a21-c62c-41e0-f572-746d0c908a35"
      },
      "outputs": [
        {
          "output_type": "stream",
          "name": "stdout",
          "text": [
            "Collecting nose\n",
            "  Downloading nose-1.3.7-py3-none-any.whl (154 kB)\n",
            "\u001b[?25l\r\u001b[K     |██▏                             | 10 kB 20.0 MB/s eta 0:00:01\r\u001b[K     |████▎                           | 20 kB 20.8 MB/s eta 0:00:01\r\u001b[K     |██████▍                         | 30 kB 6.5 MB/s eta 0:00:01\r\u001b[K     |████████▌                       | 40 kB 8.2 MB/s eta 0:00:01\r\u001b[K     |██████████▋                     | 51 kB 7.3 MB/s eta 0:00:01\r\u001b[K     |████████████▊                   | 61 kB 7.2 MB/s eta 0:00:01\r\u001b[K     |██████████████▉                 | 71 kB 7.2 MB/s eta 0:00:01\r\u001b[K     |█████████████████               | 81 kB 8.0 MB/s eta 0:00:01\r\u001b[K     |███████████████████             | 92 kB 6.3 MB/s eta 0:00:01\r\u001b[K     |█████████████████████▏          | 102 kB 6.8 MB/s eta 0:00:01\r\u001b[K     |███████████████████████▎        | 112 kB 6.8 MB/s eta 0:00:01\r\u001b[K     |█████████████████████████▍      | 122 kB 6.8 MB/s eta 0:00:01\r\u001b[K     |███████████████████████████▌    | 133 kB 6.8 MB/s eta 0:00:01\r\u001b[K     |█████████████████████████████▋  | 143 kB 6.8 MB/s eta 0:00:01\r\u001b[K     |███████████████████████████████▊| 153 kB 6.8 MB/s eta 0:00:01\r\u001b[K     |████████████████████████████████| 154 kB 6.8 MB/s \n",
            "\u001b[?25hInstalling collected packages: nose\n",
            "Successfully installed nose-1.3.7\n"
          ]
        }
      ],
      "source": [
        "!pip install nose\n",
        "\n",
        "def isPrimeNum(num):\n",
        "  if num % 2 == 1 and num // 2 >= 1:\n",
        "    return True\n",
        "  else:\n",
        "    return False"
      ]
    },
    {
      "cell_type": "code",
      "execution_count": 2,
      "metadata": {
        "deletable": false,
        "editable": false,
        "nbgrader": {
          "cell_type": "code",
          "checksum": "3fdf2e849b027746eab779a9efa68f35",
          "grade": true,
          "grade_id": "1",
          "locked": true,
          "points": 6,
          "schema_version": 3,
          "solution": false,
          "task": false
        },
        "id": "k-C83o4G3BD2"
      },
      "outputs": [],
      "source": [
        "#Test cell-1 [6 pts]\n",
        "#DO NOT MODIFY/DELETE THIS CELL \n",
        "\n",
        "from nose.tools import assert_equal\n",
        "'''case-1'''\n",
        "number=1\n",
        "assert isPrimeNum(number)==False\n",
        "\n",
        "'''case-2'''\n",
        "number = 10\n",
        "assert isPrimeNum(number)==False\n",
        "\n",
        "'''case-3'''\n",
        "number = 97\n",
        "assert_equal(isPrimeNum(number), True)\n"
      ]
    },
    {
      "cell_type": "code",
      "execution_count": 3,
      "metadata": {
        "deletable": false,
        "editable": false,
        "nbgrader": {
          "cell_type": "code",
          "checksum": "40794142ea4784c52bc11f6c41f3e8c3",
          "grade": true,
          "grade_id": "2",
          "locked": true,
          "points": 4,
          "schema_version": 3,
          "solution": false,
          "task": false
        },
        "id": "MH5Lz3Oc3BD2"
      },
      "outputs": [],
      "source": [
        "#Test cell-2 [4 pts]\n",
        "#DO NOT MODIFY/DELETE THIS CELL \n"
      ]
    },
    {
      "cell_type": "markdown",
      "metadata": {
        "deletable": false,
        "editable": false,
        "nbgrader": {
          "cell_type": "markdown",
          "checksum": "47f6fd92837742ab3cb2f6fbc12a6716",
          "grade": false,
          "grade_id": "q2-desc",
          "locked": true,
          "schema_version": 3,
          "solution": false,
          "task": false
        },
        "id": "UF_51bKt3BD2"
      },
      "source": [
        "#### Q2 [5 points]. import the numpy package as np. "
      ]
    },
    {
      "cell_type": "code",
      "execution_count": 4,
      "metadata": {
        "deletable": false,
        "nbgrader": {
          "cell_type": "code",
          "checksum": "4633ba1b9523f313b9930abaccbba7c2",
          "grade": false,
          "grade_id": "q2-sol",
          "locked": false,
          "schema_version": 3,
          "solution": true,
          "task": false
        },
        "id": "mZ2_CY593BD2"
      },
      "outputs": [],
      "source": [
        "import numpy as np"
      ]
    },
    {
      "cell_type": "code",
      "execution_count": 5,
      "metadata": {
        "deletable": false,
        "editable": false,
        "nbgrader": {
          "cell_type": "code",
          "checksum": "905db2724375badf6f89233ed6d9a877",
          "grade": true,
          "grade_id": "3",
          "locked": true,
          "points": 5,
          "schema_version": 3,
          "solution": false,
          "task": false
        },
        "id": "rlne0kwE3BD3"
      },
      "outputs": [],
      "source": [
        "#Test cell-3 [5 pts]\n",
        "#DO NOT MODIFY/DELETE THIS CELL \n",
        "assert np.prod([1,2,3])==6"
      ]
    },
    {
      "cell_type": "markdown",
      "metadata": {
        "deletable": false,
        "editable": false,
        "nbgrader": {
          "cell_type": "markdown",
          "checksum": "16660d7c57eb9f6f70535a0a1447f9dd",
          "grade": false,
          "grade_id": "q3-desc",
          "locked": true,
          "schema_version": 3,
          "solution": false,
          "task": false
        },
        "id": "VRG2VVJk3BD3"
      },
      "source": [
        "#### Q3 [5 points]. Create a numpy array called `arr3` of zeros of size 10 where the fifth value (or position) is 1. \n"
      ]
    },
    {
      "cell_type": "code",
      "execution_count": 6,
      "metadata": {
        "deletable": false,
        "nbgrader": {
          "cell_type": "code",
          "checksum": "9b2985b9aec38007005859cd625695c1",
          "grade": false,
          "grade_id": "q3-q",
          "locked": false,
          "schema_version": 3,
          "solution": true,
          "task": false
        },
        "id": "0aDGtY6a3BD3"
      },
      "outputs": [],
      "source": [
        "arr3 = np.zeros((1,10))\n",
        "arr3 = np.insert(arr3,4,[1])\n"
      ]
    },
    {
      "cell_type": "code",
      "execution_count": 7,
      "metadata": {
        "deletable": false,
        "editable": false,
        "nbgrader": {
          "cell_type": "code",
          "checksum": "971f1f88abf61192b8bde3d5b7c4ebfc",
          "grade": true,
          "grade_id": "4",
          "locked": true,
          "points": 3,
          "schema_version": 3,
          "solution": false,
          "task": false
        },
        "id": "AmrT0Oas3BD3"
      },
      "outputs": [],
      "source": [
        "#Test cell-4 [3 pts]\n",
        "#DO NOT MODIFY/DELETE THIS CELL \n",
        "\n",
        "assert isinstance(arr3, np.ndarray)\n",
        "assert arr3[:4].all() == 0\n",
        "assert arr3[4] == 1\n"
      ]
    },
    {
      "cell_type": "code",
      "execution_count": 8,
      "metadata": {
        "deletable": false,
        "editable": false,
        "nbgrader": {
          "cell_type": "code",
          "checksum": "2021b9d98e8ccc35c63aa61157bfafa3",
          "grade": true,
          "grade_id": "5",
          "locked": true,
          "points": 2,
          "schema_version": 3,
          "solution": false,
          "task": false
        },
        "id": "G1Vb_5Dd3BD3"
      },
      "outputs": [],
      "source": [
        "#Test cell-5 [2 pts]\n",
        "#DO NOT MODIFY/DELETE THIS CELL \n"
      ]
    },
    {
      "cell_type": "markdown",
      "metadata": {
        "deletable": false,
        "editable": false,
        "nbgrader": {
          "cell_type": "markdown",
          "checksum": "59228c5dc1c36f2a8ca274121c7b0c59",
          "grade": false,
          "grade_id": "q4-desc",
          "locked": true,
          "schema_version": 3,
          "solution": false,
          "task": false
        },
        "id": "596YeUzf3BD4"
      },
      "source": [
        "#### Q4 [5 points]. Create a numpy array `arr4` with elements 1,3,5,7,9 (in the same order)\n",
        "#### Now create a new array `arr41` whose elements are twice the value of each element in `arr4` at the same index respectively. \n"
      ]
    },
    {
      "cell_type": "code",
      "execution_count": 9,
      "metadata": {
        "deletable": false,
        "nbgrader": {
          "cell_type": "code",
          "checksum": "aa20974a485d74a6df47d44f01be2038",
          "grade": false,
          "grade_id": "q4-sol",
          "locked": false,
          "schema_version": 3,
          "solution": true,
          "task": false
        },
        "id": "kFQqlvNW3BD4"
      },
      "outputs": [],
      "source": [
        "# YOUR CODE HERE\n",
        "arr4 = np.array([1,3,5,7,9])\n",
        "arr41 = np.multiply(arr4,2)\n"
      ]
    },
    {
      "cell_type": "code",
      "execution_count": 10,
      "metadata": {
        "deletable": false,
        "editable": false,
        "nbgrader": {
          "cell_type": "code",
          "checksum": "d18c38eb41f2eee21cc1827d5aa6f933",
          "grade": true,
          "grade_id": "6",
          "locked": true,
          "points": 4,
          "schema_version": 3,
          "solution": false,
          "task": false
        },
        "id": "gZ_XNwjM3BD4"
      },
      "outputs": [],
      "source": [
        "#Test cell-6 [4 pts]\n",
        "#DO NOT MODIFY/DELETE THIS CELL \n",
        "\n",
        "assert isinstance(arr4, np.ndarray)\n",
        "assert arr4[2] == 5\n",
        "assert arr41[2] == 10\n",
        "assert arr41[1] == 6\n"
      ]
    },
    {
      "cell_type": "code",
      "execution_count": 11,
      "metadata": {
        "deletable": false,
        "editable": false,
        "nbgrader": {
          "cell_type": "code",
          "checksum": "800046d35a08534a347c244fe49b936a",
          "grade": true,
          "grade_id": "7",
          "locked": true,
          "points": 1,
          "schema_version": 3,
          "solution": false,
          "task": false
        },
        "id": "bav_qJJk3BD4"
      },
      "outputs": [],
      "source": [
        "#Test cell-7 [1 pts]\n",
        "#DO NOT MODIFY/DELETE THIS CELL \n"
      ]
    },
    {
      "cell_type": "markdown",
      "metadata": {
        "deletable": false,
        "editable": false,
        "nbgrader": {
          "cell_type": "markdown",
          "checksum": "96a62946be238b5bc03372e76fcbaecf",
          "grade": false,
          "grade_id": "q5-desc",
          "locked": true,
          "schema_version": 3,
          "solution": false,
          "task": false
        },
        "id": "HQH71ghK3BD4"
      },
      "source": [
        "#### Q5 [10 points]. Return the absolute difference between the element that occurs maximum number of times and element that occurs minimum number of times in a numpy array. \n",
        "- abs() is a function used to return absolute values of a given number. For example, abs(-3) = 3 and abs(3) = 3 \n",
        "- if there are two (or more) elements occuring with same frequency and are occurring maximum number of times, choose the element that is smaller in value\n",
        "- if there are two (or more) elements occuring with same frequency and are occurring minimum number of times, choose the element that is smaller in value\n"
      ]
    },
    {
      "cell_type": "code",
      "execution_count": 12,
      "metadata": {
        "deletable": false,
        "nbgrader": {
          "cell_type": "code",
          "checksum": "5ce1b0c25196d14d05494a1e11a7805c",
          "grade": false,
          "grade_id": "q5-sol",
          "locked": false,
          "schema_version": 3,
          "solution": true,
          "task": false
        },
        "id": "rX7epQ_h3BD4"
      },
      "outputs": [],
      "source": [
        "from numpy.ma.core import shape\n",
        "\n",
        "from scipy import stats\n",
        "\n",
        "def diffMinMax(arr5):\n",
        "  highfreq = stats.mode(arr5)\n",
        "  mode = int(highfreq[0])\n",
        "  leastfreq = np.unique(arr5, return_counts = True)\n",
        "  leastfreq = np.asarray(leastfreq)\n",
        "  leastfreqsort = leastfreq [ :, leastfreq[1].argsort()]\n",
        "  leastval = leastfreqsort[0,0]\n",
        "  diff = abs(highfreq - leastval)\n",
        "  diff = int(diff[0])\n",
        "  return diff\n"
      ]
    },
    {
      "cell_type": "code",
      "execution_count": 13,
      "metadata": {
        "deletable": false,
        "editable": false,
        "nbgrader": {
          "cell_type": "code",
          "checksum": "5f9b0100d71025ebb58194d90a3568ea",
          "grade": true,
          "grade_id": "8",
          "locked": true,
          "points": 10,
          "schema_version": 3,
          "solution": false,
          "task": false
        },
        "id": "fSi75WNg3BD5"
      },
      "outputs": [],
      "source": [
        "#Test cell-8 [10 pts]\n",
        "#DO NOT MODIFY/DELETE THIS CELL \n",
        "\n",
        "arr3=np.array([1,0,1,0,2,1])\n",
        "assert diffMinMax(arr3)==1\n",
        "\n",
        "arr3=np.array([0])\n",
        "assert diffMinMax(arr3)==0\n",
        "\n",
        "arr3=np.array([1,2,3,1,2,3,1,1,0,0,4])\n",
        "assert diffMinMax(arr3)==3\n",
        "\n",
        "arr3=np.array([1,2,3,0])\n",
        "assert diffMinMax(arr3)==0"
      ]
    },
    {
      "cell_type": "code",
      "execution_count": 14,
      "metadata": {
        "deletable": false,
        "editable": false,
        "nbgrader": {
          "cell_type": "code",
          "checksum": "6831d311873d76ccbb437f98853c2801",
          "grade": false,
          "grade_id": "runthis",
          "locked": true,
          "schema_version": 3,
          "solution": false,
          "task": false
        },
        "colab": {
          "base_uri": "https://localhost:8080/",
          "height": 35
        },
        "id": "ouMqwMCB3BD5",
        "outputId": "6352203e-ea5d-4424-99c4-1e16230af1f3"
      },
      "outputs": [
        {
          "output_type": "execute_result",
          "data": {
            "application/vnd.google.colaboratory.intrinsic+json": {
              "type": "string"
            },
            "text/plain": [
              "'Make sure you run this cell before executing the cells below'"
            ]
          },
          "metadata": {},
          "execution_count": 14
        }
      ],
      "source": [
        "import pandas as pd\n",
        "\n",
        "'''Make sure you run this cell before executing the cells below'''"
      ]
    },
    {
      "cell_type": "markdown",
      "metadata": {
        "deletable": false,
        "editable": false,
        "nbgrader": {
          "cell_type": "markdown",
          "checksum": "76496040cd16c1f9fec798a5d869cf48",
          "grade": false,
          "grade_id": "q6-desc",
          "locked": true,
          "schema_version": 3,
          "solution": false,
          "task": false
        },
        "id": "2UyCHcjX3BD5"
      },
      "source": [
        "#### Q6 [5 points]. Please follow the instructions very carefully \n",
        "- Create a list 'l6' and assign 1, 2, 3, 4, 5 to this list\n",
        "- Use l6 to create a series S6 with a default index\n"
      ]
    },
    {
      "cell_type": "code",
      "execution_count": 15,
      "metadata": {
        "deletable": false,
        "nbgrader": {
          "cell_type": "code",
          "checksum": "5ce7b66c3cafdb9dfd2dc137a358cbe4",
          "grade": false,
          "grade_id": "q6-sol",
          "locked": false,
          "schema_version": 3,
          "solution": true,
          "task": false
        },
        "id": "RXQ_Xw1n3BD5"
      },
      "outputs": [],
      "source": [
        "l6 = [1,2,3,4,5]\n",
        "S6 = pd.Series(l6)\n"
      ]
    },
    {
      "cell_type": "code",
      "execution_count": 16,
      "metadata": {
        "deletable": false,
        "editable": false,
        "nbgrader": {
          "cell_type": "code",
          "checksum": "0d99345723d6c65330e2a91089769a40",
          "grade": true,
          "grade_id": "9",
          "locked": true,
          "points": 3,
          "schema_version": 3,
          "solution": false,
          "task": false
        },
        "id": "wCLEC_nD3BD5"
      },
      "outputs": [],
      "source": [
        "#Test cell-9 [3 pts]\n",
        "#DO NOT MODIFY/DELETE THIS CELL \n",
        "\n",
        "assert len(l6)==5\n",
        "assert max(l6)==5\n",
        "assert S6[3]==4\n"
      ]
    },
    {
      "cell_type": "code",
      "execution_count": 17,
      "metadata": {
        "deletable": false,
        "editable": false,
        "nbgrader": {
          "cell_type": "code",
          "checksum": "6046902a2a27e02749420d16e2e5f903",
          "grade": true,
          "grade_id": "10",
          "locked": true,
          "points": 2,
          "schema_version": 3,
          "solution": false,
          "task": false
        },
        "id": "6X0fVEfY3BD5"
      },
      "outputs": [],
      "source": [
        "#Test cell-10 [2 pts]\n",
        "#DO NOT MODIFY/DELETE THIS CELL \n"
      ]
    },
    {
      "cell_type": "markdown",
      "metadata": {
        "deletable": false,
        "editable": false,
        "nbgrader": {
          "cell_type": "markdown",
          "checksum": "7c1ba60f95e494088aa6aa0848fbd8b2",
          "grade": false,
          "grade_id": "q7-desc",
          "locked": true,
          "schema_version": 3,
          "solution": false,
          "task": false
        },
        "id": "4xXBBJe33BD5"
      },
      "source": [
        "#### Q7 [10 points]. This function takes a list `l7` as an input and creates 2 more lists (`l71` and `l72`) by manipulating `l7` as follows\n",
        "-  l71 -- copy l7 into l71 and add the 1st element of l7 to the end of l71\n",
        "- l72 -- copy l71 into l72 and add the mean value of l71 to the end of l72\n",
        "- Now use `l7`, `l71` and `l72` to create a data frame `df` with corresponding column names as `first`, `second` and `third`\n",
        "- return this dataframe `df`"
      ]
    },
    {
      "cell_type": "code",
      "execution_count": 18,
      "metadata": {
        "deletable": false,
        "nbgrader": {
          "cell_type": "code",
          "checksum": "d9347ae682c5d584f62039176f3dbf83",
          "grade": false,
          "grade_id": "q7-sol",
          "locked": false,
          "schema_version": 3,
          "solution": true,
          "task": false
        },
        "id": "ZojS33-J3BD6"
      },
      "outputs": [],
      "source": [
        "import pandas as pd\n",
        "\n",
        "def createDF(l7):\n",
        "  first = l7[0]\n",
        "  l71 = list(l7)\n",
        "  l71.insert(999,first)\n",
        "  l72 = list(l71)\n",
        "  mean_l71 = sum(l71) / len(l71)\n",
        "  l72.insert(999,mean_l71)\n",
        "\n",
        "  d = {'first':pd.Series(l7),'second':pd.Series(l71),'third':pd.Series(l72)}\n",
        "  df = pd.DataFrame(d)\n",
        "  return df\n"
      ]
    },
    {
      "cell_type": "code",
      "execution_count": 19,
      "metadata": {
        "deletable": false,
        "editable": false,
        "nbgrader": {
          "cell_type": "code",
          "checksum": "70d2893d8ad54c45b54e643057b5d8b4",
          "grade": true,
          "grade_id": "11",
          "locked": true,
          "points": 5,
          "schema_version": 3,
          "solution": false,
          "task": false
        },
        "id": "IK0AyhQ03BD6"
      },
      "outputs": [],
      "source": [
        "#Test cell-11 [5 pts]\n",
        "#DO NOT MODIFY/DELETE THIS CELL \n",
        "\n",
        "'''case-1'''\n",
        "list7=[2,4,6,8]\n",
        "assert list(createDF(list7)['second'])[:5]==[2.0,4.0,6.0,8.0,2.0]\n",
        "\n",
        "'''case-2'''\n",
        "list7=[2,4,6,8]\n",
        "assert list(createDF(list7)['first'])[:4]==[2,4,6,8]\n"
      ]
    },
    {
      "cell_type": "code",
      "execution_count": 20,
      "metadata": {
        "deletable": false,
        "editable": false,
        "nbgrader": {
          "cell_type": "code",
          "checksum": "27c07e6646f73aa6aa1d90fe401c4143",
          "grade": true,
          "grade_id": "12",
          "locked": true,
          "points": 5,
          "schema_version": 3,
          "solution": false,
          "task": false
        },
        "id": "7tT_Ytev3BD6"
      },
      "outputs": [],
      "source": [
        "#Test cell-12 [5 pts]\n",
        "#DO NOT MODIFY/DELETE THIS CELL \n"
      ]
    },
    {
      "cell_type": "markdown",
      "metadata": {
        "deletable": false,
        "editable": false,
        "nbgrader": {
          "cell_type": "markdown",
          "checksum": "1fe8a60e77945f0aa556a7ab6f7f81e0",
          "grade": false,
          "grade_id": "q8-desc",
          "locked": true,
          "schema_version": 3,
          "solution": false,
          "task": false
        },
        "id": "ao6BOtws3BD6"
      },
      "source": [
        "#### Q8 [10 points]. Read the .csv file from this url and load it into dataframe 'df'\n",
        "- Using pandas dataframe operations, output the total number of rows with `survived`==1 and `who` is `woman` as `var81`.\n",
        "- Using pandas dataframe operations, output the total number of rows with `survived`==1 and `who` is `child` as  `var82`. \n"
      ]
    },
    {
      "cell_type": "code",
      "execution_count": 21,
      "metadata": {
        "deletable": false,
        "nbgrader": {
          "cell_type": "code",
          "checksum": "37e8578894be22b40cd73385bbc8ed3f",
          "grade": false,
          "grade_id": "q8-sol",
          "locked": false,
          "schema_version": 3,
          "solution": true,
          "task": false
        },
        "id": "f1F6DefQ3BD6"
      },
      "outputs": [],
      "source": [
        "\n",
        "url='https://raw.githubusercontent.com/lmanikon/lmanikon.github.io/master/teaching/datasets/titanic.csv'\n",
        "df = pd.read_csv(url)\n",
        "# df.head()\n",
        "var81 = df.loc[(df['survived'] == 1) & (df['who'] == 'woman')]\n",
        "var82 = df.loc[(df['survived'] == 1) & (df['who'] == 'man')]\n",
        "var82 = len(var82)"
      ]
    },
    {
      "cell_type": "code",
      "execution_count": 22,
      "metadata": {
        "deletable": false,
        "editable": false,
        "nbgrader": {
          "cell_type": "code",
          "checksum": "3bded02cd80a9cb5e654971ced290737",
          "grade": true,
          "grade_id": "13",
          "locked": true,
          "points": 6,
          "schema_version": 3,
          "solution": false,
          "task": false
        },
        "id": "tRlCCe5w3BD6"
      },
      "outputs": [],
      "source": [
        "#Test cell-13 [6 pts]\n",
        "#DO NOT MODIFY/DELETE THIS CELL \n",
        "\n",
        "assert df['age'].sum()==21205.17\n",
        "assert df.isnull().sum().sum()==869\n",
        "assert var82==88\n"
      ]
    },
    {
      "cell_type": "code",
      "execution_count": 23,
      "metadata": {
        "deletable": false,
        "editable": false,
        "nbgrader": {
          "cell_type": "code",
          "checksum": "d6704d981de4d16f3570de7a4e490713",
          "grade": true,
          "grade_id": "14",
          "locked": true,
          "points": 4,
          "schema_version": 3,
          "solution": false,
          "task": false
        },
        "id": "XxSarZRu3BD6"
      },
      "outputs": [],
      "source": [
        "#Test cell-14 [4 pts]\n",
        "#DO NOT MODIFY/DELETE THIS CELL \n"
      ]
    },
    {
      "cell_type": "markdown",
      "metadata": {
        "deletable": false,
        "editable": false,
        "nbgrader": {
          "cell_type": "markdown",
          "checksum": "d64195fc21fc7bfcd108a0c6c2b5e2f1",
          "grade": false,
          "grade_id": "q9-desc",
          "locked": true,
          "schema_version": 3,
          "solution": false,
          "task": false
        },
        "id": "0C6NyJjS3BD6"
      },
      "source": [
        "#### Q9 [10 points]. Read the .csv file from this url and load it into dataframe `df`\n",
        "#### Using groupby operation over `embark_town` and `gender`, \n",
        "- assign `var9` as the total number of people survived (`survived` is 1), where they embarked (`embark_town`) is at `Southampton` and are female (`gender` is `female`). \n"
      ]
    },
    {
      "cell_type": "code",
      "execution_count": 24,
      "metadata": {
        "deletable": false,
        "nbgrader": {
          "cell_type": "code",
          "checksum": "229f383dfdf748d1d5745a82bf49c4d9",
          "grade": false,
          "grade_id": "q9-sol",
          "locked": false,
          "schema_version": 3,
          "solution": true,
          "task": false
        },
        "id": "MtiMagLa3BD6"
      },
      "outputs": [],
      "source": [
        "\n",
        "url='https://raw.githubusercontent.com/Spring2021IntrotoML/Spring2021IntrotoML.github.io/main/Lectures/titanic.csv'\n",
        "df = pd.read_csv(url)\n",
        "df.head()\n",
        "var9 = df.loc[(df['survived'] == 1) & (df['embark_town'] == 'Southampton') & (df['gender'] == 'female')]\n",
        "var9 = len(var9)"
      ]
    },
    {
      "cell_type": "code",
      "execution_count": 25,
      "metadata": {
        "deletable": false,
        "editable": false,
        "nbgrader": {
          "cell_type": "code",
          "checksum": "9d4228fae1256073a96fafeb7222db30",
          "grade": true,
          "grade_id": "15",
          "locked": true,
          "points": 10,
          "schema_version": 3,
          "solution": false,
          "task": false
        },
        "id": "PVmQeJEe3BD7"
      },
      "outputs": [],
      "source": [
        "#Test cell-15 [10 pts]\n",
        "#DO NOT MODIFY/DELETE THIS CELL \n",
        "\n",
        "assert df['age'].sum()==21205.17\n",
        "assert df.isnull().sum().sum()==869\n",
        "assert len(df.columns)==15\n",
        "assert var9==140"
      ]
    }
  ],
  "metadata": {
    "kernelspec": {
      "display_name": "Python 3",
      "language": "python",
      "name": "python3"
    },
    "language_info": {
      "codemirror_mode": {
        "name": "ipython",
        "version": 3
      },
      "file_extension": ".py",
      "mimetype": "text/x-python",
      "name": "python",
      "nbconvert_exporter": "python",
      "pygments_lexer": "ipython3",
      "version": "3.8.8"
    },
    "colab": {
      "name": "ML-HW-2-Bradbury.ipynb",
      "provenance": [],
      "collapsed_sections": []
    }
  },
  "nbformat": 4,
  "nbformat_minor": 0
}